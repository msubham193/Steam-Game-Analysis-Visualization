{
 "cells": [
  {
   "cell_type": "code",
   "execution_count": 3,
   "metadata": {},
   "outputs": [],
   "source": [
    "import pandas as pd\n",
    "import numpy as np\n",
    "import matplotlib.pyplot as plt\n",
    "import seaborn as sns\n",
    "import plotly.express as px\n",
    "%matplotlib inline"
   ]
  },
  {
   "cell_type": "code",
   "execution_count": 4,
   "metadata": {},
   "outputs": [],
   "source": [
    "data = pd.read_csv(\"steam.csv\")"
   ]
  },
  {
   "cell_type": "code",
   "execution_count": 5,
   "metadata": {},
   "outputs": [],
   "source": [
    "data.sample(5)\n",
    "data  =  data.head(2000)"
   ]
  },
  {
   "cell_type": "code",
   "execution_count": 6,
   "metadata": {},
   "outputs": [],
   "source": [
    "data = data.drop(['appid','english','average_playtime','median_playtime','owners','steamspy_tags','categories'],axis=1)"
   ]
  },
  {
   "cell_type": "code",
   "execution_count": 7,
   "metadata": {},
   "outputs": [
    {
     "name": "stderr",
     "output_type": "stream",
     "text": [
      "/var/folders/s1/rp6hcrmn5b11zncm51rccfjc0000gn/T/ipykernel_57372/1489310327.py:2: SettingWithCopyWarning: \n",
      "A value is trying to be set on a copy of a slice from a DataFrame\n",
      "\n",
      "See the caveats in the documentation: https://pandas.pydata.org/pandas-docs/stable/user_guide/indexing.html#returning-a-view-versus-a-copy\n",
      "  data['genres'][i] = val.split(';')[0]\n"
     ]
    }
   ],
   "source": [
    "for i,val in data['genres'].iteritems(): \n",
    "    data['genres'][i] = val.split(';')[0]\n",
    "    \n"
   ]
  },
  {
   "cell_type": "code",
   "execution_count": 8,
   "metadata": {},
   "outputs": [
    {
     "data": {
      "text/html": [
       "<div>\n",
       "<style scoped>\n",
       "    .dataframe tbody tr th:only-of-type {\n",
       "        vertical-align: middle;\n",
       "    }\n",
       "\n",
       "    .dataframe tbody tr th {\n",
       "        vertical-align: top;\n",
       "    }\n",
       "\n",
       "    .dataframe thead th {\n",
       "        text-align: right;\n",
       "    }\n",
       "</style>\n",
       "<table border=\"1\" class=\"dataframe\">\n",
       "  <thead>\n",
       "    <tr style=\"text-align: right;\">\n",
       "      <th></th>\n",
       "      <th>name</th>\n",
       "      <th>release_date</th>\n",
       "      <th>developer</th>\n",
       "      <th>publisher</th>\n",
       "      <th>platforms</th>\n",
       "      <th>required_age</th>\n",
       "      <th>genres</th>\n",
       "      <th>achievements</th>\n",
       "      <th>positive_ratings</th>\n",
       "      <th>negative_ratings</th>\n",
       "      <th>price</th>\n",
       "    </tr>\n",
       "  </thead>\n",
       "  <tbody>\n",
       "    <tr>\n",
       "      <th>252</th>\n",
       "      <td>King's Quest™ Collection</td>\n",
       "      <td>2009-07-23</td>\n",
       "      <td>Sierra</td>\n",
       "      <td>Activision</td>\n",
       "      <td>windows</td>\n",
       "      <td>0</td>\n",
       "      <td>Adventure</td>\n",
       "      <td>0</td>\n",
       "      <td>125</td>\n",
       "      <td>32</td>\n",
       "      <td>14.99</td>\n",
       "    </tr>\n",
       "    <tr>\n",
       "      <th>1046</th>\n",
       "      <td>Iron Front: Digital War Edition</td>\n",
       "      <td>2012-05-25</td>\n",
       "      <td>X1 Software;AWAR</td>\n",
       "      <td>Deep Silver</td>\n",
       "      <td>windows</td>\n",
       "      <td>0</td>\n",
       "      <td>Action</td>\n",
       "      <td>0</td>\n",
       "      <td>434</td>\n",
       "      <td>275</td>\n",
       "      <td>10.99</td>\n",
       "    </tr>\n",
       "    <tr>\n",
       "      <th>1253</th>\n",
       "      <td>BIT.TRIP FLUX</td>\n",
       "      <td>2014-06-05</td>\n",
       "      <td>Gaijin Games</td>\n",
       "      <td>Gaijin Games</td>\n",
       "      <td>windows;mac</td>\n",
       "      <td>0</td>\n",
       "      <td>Action</td>\n",
       "      <td>20</td>\n",
       "      <td>71</td>\n",
       "      <td>62</td>\n",
       "      <td>6.99</td>\n",
       "    </tr>\n",
       "    <tr>\n",
       "      <th>1062</th>\n",
       "      <td>Agricultural Simulator 2011: Extended Edition</td>\n",
       "      <td>2011-02-23</td>\n",
       "      <td>Actalogic</td>\n",
       "      <td>Libredia</td>\n",
       "      <td>windows</td>\n",
       "      <td>0</td>\n",
       "      <td>Simulation</td>\n",
       "      <td>0</td>\n",
       "      <td>84</td>\n",
       "      <td>82</td>\n",
       "      <td>2.09</td>\n",
       "    </tr>\n",
       "  </tbody>\n",
       "</table>\n",
       "</div>"
      ],
      "text/plain": [
       "                                               name release_date  \\\n",
       "252                        King's Quest™ Collection   2009-07-23   \n",
       "1046                Iron Front: Digital War Edition   2012-05-25   \n",
       "1253                                  BIT.TRIP FLUX   2014-06-05   \n",
       "1062  Agricultural Simulator 2011: Extended Edition   2011-02-23   \n",
       "\n",
       "             developer     publisher    platforms  required_age      genres  \\\n",
       "252             Sierra    Activision      windows             0   Adventure   \n",
       "1046  X1 Software;AWAR   Deep Silver      windows             0      Action   \n",
       "1253      Gaijin Games  Gaijin Games  windows;mac             0      Action   \n",
       "1062         Actalogic      Libredia      windows             0  Simulation   \n",
       "\n",
       "      achievements  positive_ratings  negative_ratings  price  \n",
       "252              0               125                32  14.99  \n",
       "1046             0               434               275  10.99  \n",
       "1253            20                71                62   6.99  \n",
       "1062             0                84                82   2.09  "
      ]
     },
     "execution_count": 8,
     "metadata": {},
     "output_type": "execute_result"
    }
   ],
   "source": [
    "data.sample(4)"
   ]
  },
  {
   "cell_type": "code",
   "execution_count": null,
   "metadata": {},
   "outputs": [],
   "source": []
  },
  {
   "cell_type": "code",
   "execution_count": 9,
   "metadata": {},
   "outputs": [
    {
     "data": {
      "text/plain": [
       "<bound method Series.unique of 0           Action\n",
       "1           Action\n",
       "2           Action\n",
       "3           Action\n",
       "4           Action\n",
       "           ...    \n",
       "1995         Indie\n",
       "1996        Action\n",
       "1997        Action\n",
       "1998    Simulation\n",
       "1999        Action\n",
       "Name: genres, Length: 2000, dtype: object>"
      ]
     },
     "execution_count": 9,
     "metadata": {},
     "output_type": "execute_result"
    }
   ],
   "source": [
    "data['genres'].unique"
   ]
  },
  {
   "cell_type": "code",
   "execution_count": 10,
   "metadata": {},
   "outputs": [
    {
     "data": {
      "text/plain": [
       "name                0\n",
       "release_date        0\n",
       "developer           0\n",
       "publisher           0\n",
       "platforms           0\n",
       "required_age        0\n",
       "genres              0\n",
       "achievements        0\n",
       "positive_ratings    0\n",
       "negative_ratings    0\n",
       "price               0\n",
       "dtype: int64"
      ]
     },
     "execution_count": 10,
     "metadata": {},
     "output_type": "execute_result"
    }
   ],
   "source": [
    "data.isnull().sum()"
   ]
  },
  {
   "cell_type": "code",
   "execution_count": 11,
   "metadata": {},
   "outputs": [
    {
     "data": {
      "text/plain": [
       "array(['Action', 'Indie', 'Strategy', 'RPG', 'Animation & Modeling',\n",
       "       'Casual', 'Simulation', 'Racing', 'Adventure', 'Violent', 'Nudity',\n",
       "       'Free to Play', 'Sports', 'Gore', 'Massively Multiplayer',\n",
       "       'Utilities', 'Design & Illustration', 'Education',\n",
       "       'Web Publishing', 'Sexual Content'], dtype=object)"
      ]
     },
     "execution_count": 11,
     "metadata": {},
     "output_type": "execute_result"
    }
   ],
   "source": [
    "data['genres'].unique()"
   ]
  },
  {
   "cell_type": "code",
   "execution_count": 12,
   "metadata": {},
   "outputs": [
    {
     "data": {
      "text/plain": [
       "name                0\n",
       "release_date        0\n",
       "developer           0\n",
       "publisher           0\n",
       "platforms           0\n",
       "required_age        0\n",
       "genres              0\n",
       "achievements        0\n",
       "positive_ratings    0\n",
       "negative_ratings    0\n",
       "price               0\n",
       "dtype: int64"
      ]
     },
     "execution_count": 12,
     "metadata": {},
     "output_type": "execute_result"
    }
   ],
   "source": [
    "data.isnull().sum()"
   ]
  },
  {
   "cell_type": "code",
   "execution_count": 13,
   "metadata": {},
   "outputs": [
    {
     "name": "stderr",
     "output_type": "stream",
     "text": [
      "/Users/subhammishra/opt/anaconda3/lib/python3.9/site-packages/seaborn/_decorators.py:36: FutureWarning: Pass the following variable as a keyword arg: x. From version 0.12, the only valid positional argument will be `data`, and passing other arguments without an explicit keyword will result in an error or misinterpretation.\n",
      "  warnings.warn(\n"
     ]
    },
    {
     "data": {
      "image/png": "[encoded data removed]",
      "text/plain": [
       "<Figure size 936x360 with 1 Axes>"
      ]
     },
     "metadata": {
      "needs_background": "light"
     },
     "output_type": "display_data"
    }
   ],
   "source": [
    "plt.figure(figsize = [13, 5])\n",
    "sns.countplot(data['platforms'])\n",
    "plt.show()"
   ]
  },
  {
   "cell_type": "code",
   "execution_count": 14,
   "metadata": {},
   "outputs": [],
   "source": [
    "import plotly.express as px"
   ]
  },
  {
   "cell_type": "code",
   "execution_count": 15,
   "metadata": {},
   "outputs": [
    {
     "data": {
      "application/vnd.plotly.v1+json": {
       "config": {
        "plotlyServerURL": "https://plot.ly"
       },
       "data": [
        {
         "alignmentgroup": "True",
         "hovertemplate": "platforms=%{x}<br>counts=%{y}<extra></extra>",
         "legendgroup": "",
         "marker": {
          "color": "#636efa",
          "pattern": {
           "shape": ""
          }
         },
         "name": "",
         "offsetgroup": "",
         "orientation": "v",
         "showlegend": false,
         "textposition": "auto",
         "type": "bar",
         "x": [
          "mac",
          "windows",
          "windows;linux",
          "windows;mac",
          "windows;mac;linux"
         ],
         "xaxis": "x",
         "y": [
          1,
          1296,
          18,
          277,
          408
         ],
         "yaxis": "y"
        }
       ],
       "layout": {
        "barmode": "relative",
        "legend": {
         "tracegroupgap": 0
        },
        "template": {
         "data": {
          "bar": [
           {
            "error_x": {
             "color": "#2a3f5f"
            },
            "error_y": {
             "color": "#2a3f5f"
            },
            "marker": {
             "line": {
              "color": "#E5ECF6",
              "width": 0.5
             },
             "pattern": {
              "fillmode": "overlay",
              "size": 10,
              "solidity": 0.2
             }
            },
            "type": "bar"
           }
          ],
          "barpolar": [
           {
            "marker": {
             "line": {
              "color": "#E5ECF6",
              "width": 0.5
             },
             "pattern": {
              "fillmode": "overlay",
              "size": 10,
              "solidity": 0.2
             }
            },
            "type": "barpolar"
           }
          ],
          "carpet": [
           {
            "aaxis": {
             "endlinecolor": "#2a3f5f",
             "gridcolor": "white",
             "linecolor": "white",
             "minorgridcolor": "white",
             "startlinecolor": "#2a3f5f"
            },
            "baxis": {
             "endlinecolor": "#2a3f5f",
             "gridcolor": "white",
             "linecolor": "white",
             "minorgridcolor": "white",
             "startlinecolor": "#2a3f5f"
            },
            "type": "carpet"
           }
          ],
          "choropleth": [
           {
            "colorbar": {
             "outlinewidth": 0,
             "ticks": ""
            },
            "type": "choropleth"
           }
          ],
          "contour": [
           {
            "colorbar": {
             "outlinewidth": 0,
             "ticks": ""
            },
            "colorscale": [
             [
              0,
              "#0d0887"
             ],
             [
              0.1111111111111111,
              "#46039f"
             ],
             [
              0.2222222222222222,
              "#7201a8"
             ],
             [
              0.3333333333333333,
              "#9c179e"
             ],
             [
              0.4444444444444444,
              "#bd3786"
             ],
             [
              0.5555555555555556,
              "#d8576b"
             ],
             [
              0.6666666666666666,
              "#ed7953"
             ],
             [
              0.7777777777777778,
              "#fb9f3a"
             ],
             [
              0.8888888888888888,
              "#fdca26"
             ],
             [
              1,
              "#f0f921"
             ]
            ],
            "type": "contour"
           }
          ],
          "contourcarpet": [
           {
            "colorbar": {
             "outlinewidth": 0,
             "ticks": ""
            },
            "type": "contourcarpet"
           }
          ],
          "heatmap": [
           {
            "colorbar": {
             "outlinewidth": 0,
             "ticks": ""
            },
            "colorscale": [
             [
              0,
              "#0d0887"
             ],
             [
              0.1111111111111111,
              "#46039f"
             ],
             [
              0.2222222222222222,
              "#7201a8"
             ],
             [
              0.3333333333333333,
              "#9c179e"
             ],
             [
              0.4444444444444444,
              "#bd3786"
             ],
             [
              0.5555555555555556,
              "#d8576b"
             ],
             [
              0.6666666666666666,
              "#ed7953"
             ],
             [
              0.7777777777777778,
              "#fb9f3a"
             ],
             [
              0.8888888888888888,
              "#fdca26"
             ],
             [
              1,
              "#f0f921"
             ]
            ],
            "type": "heatmap"
           }
          ],
          "heatmapgl": [
           {
            "colorbar": {
             "outlinewidth": 0,
             "ticks": ""
            },
            "colorscale": [
             [
              0,
              "#0d0887"
             ],
             [
              0.1111111111111111,
              "#46039f"
             ],
             [
              0.2222222222222222,
              "#7201a8"
             ],
             [
              0.3333333333333333,
              "#9c179e"
             ],
             [
              0.4444444444444444,
              "#bd3786"
             ],
             [
              0.5555555555555556,
              "#d8576b"
             ],
             [
              0.6666666666666666,
              "#ed7953"
             ],
             [
              0.7777777777777778,
              "#fb9f3a"
             ],
             [
              0.8888888888888888,
              "#fdca26"
             ],
             [
              1,
              "#f0f921"
             ]
            ],
            "type": "heatmapgl"
           }
          ],
          "histogram": [
           {
            "marker": {
             "pattern": {
              "fillmode": "overlay",
              "size": 10,
              "solidity": 0.2
             }
            },
            "type": "histogram"
           }
          ],
          "histogram2d": [
           {
            "colorbar": {
             "outlinewidth": 0,
             "ticks": ""
            },
            "colorscale": [
             [
              0,
              "#0d0887"
             ],
             [
              0.1111111111111111,
              "#46039f"
             ],
             [
              0.2222222222222222,
              "#7201a8"
             ],
             [
              0.3333333333333333,
              "#9c179e"
             ],
             [
              0.4444444444444444,
              "#bd3786"
             ],
             [
              0.5555555555555556,
              "#d8576b"
             ],
             [
              0.6666666666666666,
              "#ed7953"
             ],
             [
              0.7777777777777778,
              "#fb9f3a"
             ],
             [
              0.8888888888888888,
              "#fdca26"
             ],
             [
              1,
              "#f0f921"
             ]
            ],
            "type": "histogram2d"
           }
          ],
          "histogram2dcontour": [
           {
            "colorbar": {
             "outlinewidth": 0,
             "ticks": ""
            },
            "colorscale": [
             [
              0,
              "#0d0887"
             ],
             [
              0.1111111111111111,
              "#46039f"
             ],
             [
              0.2222222222222222,
              "#7201a8"
             ],
             [
              0.3333333333333333,
              "#9c179e"
             ],
             [
              0.4444444444444444,
              "#bd3786"
             ],
             [
              0.5555555555555556,
              "#d8576b"
             ],
             [
              0.6666666666666666,
              "#ed7953"
             ],
             [
              0.7777777777777778,
              "#fb9f3a"
             ],
             [
              0.8888888888888888,
              "#fdca26"
             ],
             [
              1,
              "#f0f921"
             ]
            ],
            "type": "histogram2dcontour"
           }
          ],
          "mesh3d": [
           {
            "colorbar": {
             "outlinewidth": 0,
             "ticks": ""
            },
            "type": "mesh3d"
           }
          ],
          "parcoords": [
           {
            "line": {
             "colorbar": {
              "outlinewidth": 0,
              "ticks": ""
             }
            },
            "type": "parcoords"
           }
          ],
          "pie": [
           {
            "automargin": true,
            "type": "pie"
           }
          ],
          "scatter": [
           {
            "marker": {
             "colorbar": {
              "outlinewidth": 0,
              "ticks": ""
             }
            },
            "type": "scatter"
           }
          ],
          "scatter3d": [
           {
            "line": {
             "colorbar": {
              "outlinewidth": 0,
              "ticks": ""
             }
            },
            "marker": {
             "colorbar": {
              "outlinewidth": 0,
              "ticks": ""
             }
            },
            "type": "scatter3d"
           }
          ],
          "scattercarpet": [
           {
            "marker": {
             "colorbar": {
              "outlinewidth": 0,
              "ticks": ""
             }
            },
            "type": "scattercarpet"
           }
          ],
          "scattergeo": [
           {
            "marker": {
             "colorbar": {
              "outlinewidth": 0,
              "ticks": ""
             }
            },
            "type": "scattergeo"
           }
          ],
          "scattergl": [
           {
            "marker": {
             "colorbar": {
              "outlinewidth": 0,
              "ticks": ""
             }
            },
            "type": "scattergl"
           }
          ],
          "scattermapbox": [
           {
            "marker": {
             "colorbar": {
              "outlinewidth": 0,
              "ticks": ""
             }
            },
            "type": "scattermapbox"
           }
          ],
          "scatterpolar": [
           {
            "marker": {
             "colorbar": {
              "outlinewidth": 0,
              "ticks": ""
             }
            },
            "type": "scatterpolar"
           }
          ],
          "scatterpolargl": [
           {
            "marker": {
             "colorbar": {
              "outlinewidth": 0,
              "ticks": ""
             }
            },
            "type": "scatterpolargl"
           }
          ],
          "scatterternary": [
           {
            "marker": {
             "colorbar": {
              "outlinewidth": 0,
              "ticks": ""
             }
            },
            "type": "scatterternary"
           }
          ],
          "surface": [
           {
            "colorbar": {
             "outlinewidth": 0,
             "ticks": ""
            },
            "colorscale": [
             [
              0,
              "#0d0887"
             ],
             [
              0.1111111111111111,
              "#46039f"
             ],
             [
              0.2222222222222222,
              "#7201a8"
             ],
             [
              0.3333333333333333,
              "#9c179e"
             ],
             [
              0.4444444444444444,
              "#bd3786"
             ],
             [
              0.5555555555555556,
              "#d8576b"
             ],
             [
              0.6666666666666666,
              "#ed7953"
             ],
             [
              0.7777777777777778,
              "#fb9f3a"
             ],
             [
              0.8888888888888888,
              "#fdca26"
             ],
             [
              1,
              "#f0f921"
             ]
            ],
            "type": "surface"
           }
          ],
          "table": [
           {
            "cells": {
             "fill": {
              "color": "#EBF0F8"
             },
             "line": {
              "color": "white"
             }
            },
            "header": {
             "fill": {
              "color": "#C8D4E3"
             },
             "line": {
              "color": "white"
             }
            },
            "type": "table"
           }
          ]
         },
         "layout": {
          "annotationdefaults": {
           "arrowcolor": "#2a3f5f",
           "arrowhead": 0,
           "arrowwidth": 1
          },
          "autotypenumbers": "strict",
          "coloraxis": {
           "colorbar": {
            "outlinewidth": 0,
            "ticks": ""
           }
          },
          "colorscale": {
           "diverging": [
            [
             0,
             "#8e0152"
            ],
            [
             0.1,
             "#c51b7d"
            ],
            [
             0.2,
             "#de77ae"
            ],
            [
             0.3,
             "#f1b6da"
            ],
            [
             0.4,
             "#fde0ef"
            ],
            [
             0.5,
             "#f7f7f7"
            ],
            [
             0.6,
             "#e6f5d0"
            ],
            [
             0.7,
             "#b8e186"
            ],
            [
             0.8,
             "#7fbc41"
            ],
            [
             0.9,
             "#4d9221"
            ],
            [
             1,
             "#276419"
            ]
           ],
           "sequential": [
            [
             0,
             "#0d0887"
            ],
            [
             0.1111111111111111,
             "#46039f"
            ],
            [
             0.2222222222222222,
             "#7201a8"
            ],
            [
             0.3333333333333333,
             "#9c179e"
            ],
            [
             0.4444444444444444,
             "#bd3786"
            ],
            [
             0.5555555555555556,
             "#d8576b"
            ],
            [
             0.6666666666666666,
             "#ed7953"
            ],
            [
             0.7777777777777778,
             "#fb9f3a"
            ],
            [
             0.8888888888888888,
             "#fdca26"
            ],
            [
             1,
             "#f0f921"
            ]
           ],
           "sequentialminus": [
            [
             0,
             "#0d0887"
            ],
            [
             0.1111111111111111,
             "#46039f"
            ],
            [
             0.2222222222222222,
             "#7201a8"
            ],
            [
             0.3333333333333333,
             "#9c179e"
            ],
            [
             0.4444444444444444,
             "#bd3786"
            ],
            [
             0.5555555555555556,
             "#d8576b"
            ],
            [
             0.6666666666666666,
             "#ed7953"
            ],
            [
             0.7777777777777778,
             "#fb9f3a"
            ],
            [
             0.8888888888888888,
             "#fdca26"
            ],
            [
             1,
             "#f0f921"
            ]
           ]
          },
          "colorway": [
           "#636efa",
           "#EF553B",
           "#00cc96",
           "#ab63fa",
           "#FFA15A",
           "#19d3f3",
           "#FF6692",
           "#B6E880",
           "#FF97FF",
           "#FECB52"
          ],
          "font": {
           "color": "#2a3f5f"
          },
          "geo": {
           "bgcolor": "white",
           "lakecolor": "white",
           "landcolor": "#E5ECF6",
           "showlakes": true,
           "showland": true,
           "subunitcolor": "white"
          },
          "hoverlabel": {
           "align": "left"
          },
          "hovermode": "closest",
          "mapbox": {
           "style": "light"
          },
          "paper_bgcolor": "white",
          "plot_bgcolor": "#E5ECF6",
          "polar": {
           "angularaxis": {
            "gridcolor": "white",
            "linecolor": "white",
            "ticks": ""
           },
           "bgcolor": "#E5ECF6",
           "radialaxis": {
            "gridcolor": "white",
            "linecolor": "white",
            "ticks": ""
           }
          },
          "scene": {
           "xaxis": {
            "backgroundcolor": "#E5ECF6",
            "gridcolor": "white",
            "gridwidth": 2,
            "linecolor": "white",
            "showbackground": true,
            "ticks": "",
            "zerolinecolor": "white"
           },
           "yaxis": {
            "backgroundcolor": "#E5ECF6",
            "gridcolor": "white",
            "gridwidth": 2,
            "linecolor": "white",
            "showbackground": true,
            "ticks": "",
            "zerolinecolor": "white"
           },
           "zaxis": {
            "backgroundcolor": "#E5ECF6",
            "gridcolor": "white",
            "gridwidth": 2,
            "linecolor": "white",
            "showbackground": true,
            "ticks": "",
            "zerolinecolor": "white"
           }
          },
          "shapedefaults": {
           "line": {
            "color": "#2a3f5f"
           }
          },
          "ternary": {
           "aaxis": {
            "gridcolor": "white",
            "linecolor": "white",
            "ticks": ""
           },
           "baxis": {
            "gridcolor": "white",
            "linecolor": "white",
            "ticks": ""
           },
           "bgcolor": "#E5ECF6",
           "caxis": {
            "gridcolor": "white",
            "linecolor": "white",
            "ticks": ""
           }
          },
          "title": {
           "x": 0.05
          },
          "xaxis": {
           "automargin": true,
           "gridcolor": "white",
           "linecolor": "white",
           "ticks": "",
           "title": {
            "standoff": 15
           },
           "zerolinecolor": "white",
           "zerolinewidth": 2
          },
          "yaxis": {
           "automargin": true,
           "gridcolor": "white",
           "linecolor": "white",
           "ticks": "",
           "title": {
            "standoff": 15
           },
           "zerolinecolor": "white",
           "zerolinewidth": 2
          }
         }
        },
        "title": {
         "text": "Platform Based Games"
        },
        "xaxis": {
         "anchor": "y",
         "domain": [
          0,
          1
         ],
         "title": {
          "text": "platforms"
         }
        },
        "yaxis": {
         "anchor": "x",
         "domain": [
          0,
          1
         ],
         "title": {
          "text": "counts"
         }
        }
       }
      }
     },
     "metadata": {},
     "output_type": "display_data"
    }
   ],
   "source": [
    "\n",
    "d = data.groupby(by=[\"platforms\"]).size().reset_index(name=\"counts\")\n",
    "px.bar(data_frame=d,x=\"platforms\",y=\"counts\",title=\"Platform Based Games\")\n"
   ]
  },
  {
   "cell_type": "code",
   "execution_count": 16,
   "metadata": {},
   "outputs": [
    {
     "data": {
      "application/vnd.plotly.v1+json": {
       "config": {
        "plotlyServerURL": "https://plot.ly"
       },
       "data": [
        {
         "alignmentgroup": "True",
         "bingroup": "x",
         "hovertemplate": "price=%{x}<br>count=%{y}<extra></extra>",
         "legendgroup": "",
         "marker": {
          "color": "#636efa",
          "pattern": {
           "shape": ""
          }
         },
         "name": "",
         "offsetgroup": "",
         "orientation": "v",
         "showlegend": false,
         "type": "histogram",
         "x": [
          7.19,
          3.99,
          3.99,
          3.99,
          3.99,
          3.99,
          7.19,
          7.19,
          3.99,
          7.19,
          7.19,
          0,
          7.19,
          3.99,
          0,
          0,
          5.79,
          7.19,
          5.79,
          0,
          7.19,
          7.19,
          0,
          7.19,
          0,
          0,
          5.99,
          3.99,
          14.99,
          7.19,
          7.19,
          6.99,
          7.19,
          7.19,
          22.99,
          6.99,
          4.99,
          4.99,
          3.99,
          10.99,
          2.99,
          0,
          3.99,
          6.99,
          4.29,
          12.99,
          12.99,
          2.99,
          3.99,
          3.99,
          3.99,
          3.99,
          3.99,
          2.49,
          2.49,
          12.99,
          2.99,
          2.99,
          2.99,
          0,
          4.29,
          3.99,
          0,
          2.99,
          14.99,
          9.99,
          14.99,
          14.99,
          14.99,
          1.99,
          3.99,
          5.99,
          4.99,
          9.99,
          15.99,
          3.49,
          3.49,
          24.99,
          22.99,
          22.99,
          22.99,
          5.99,
          3.99,
          8.59,
          3.99,
          3.99,
          7.99,
          4.49,
          4.49,
          4.49,
          4.25,
          4.25,
          4.25,
          0,
          4.25,
          4.25,
          4.25,
          4.25,
          4.25,
          4.25,
          4.25,
          4.25,
          4.25,
          4.25,
          4.25,
          4.25,
          4.25,
          5.59,
          5.59,
          6.99,
          3.99,
          7.19,
          6.99,
          6.99,
          6.99,
          9.99,
          2.99,
          5.99,
          2.99,
          5.99,
          2.99,
          6.99,
          5.99,
          25.99,
          3.99,
          5.99,
          7.99,
          6.99,
          7.99,
          9.99,
          7.99,
          4.99,
          0,
          9.99,
          9.99,
          0,
          9.99,
          8.99,
          8.99,
          0,
          9.99,
          3.99,
          3.99,
          3.99,
          3.99,
          0,
          6.99,
          7.19,
          4.79,
          7.19,
          7.19,
          4.79,
          7.19,
          7.19,
          4.79,
          7.19,
          3.99,
          3.99,
          4.99,
          3.99,
          3.99,
          13.99,
          5.99,
          0,
          5.79,
          6.99,
          9.99,
          15.99,
          3.99,
          3.99,
          3.99,
          3.99,
          8.29,
          9.29,
          4.99,
          4.99,
          7.19,
          4.99,
          4.99,
          6.99,
          4.99,
          3.99,
          6.99,
          8.99,
          25.99,
          6.99,
          6.99,
          6.99,
          6.99,
          6.99,
          14.99,
          6.99,
          5.99,
          5.99,
          2.99,
          2.99,
          2.99,
          2.99,
          2.99,
          2.99,
          3.99,
          1.99,
          3.99,
          19.99,
          6.99,
          4.99,
          3.99,
          6.99,
          6.99,
          9.99,
          0,
          0,
          1.99,
          22.99,
          2.99,
          0,
          2.49,
          4.99,
          5.99,
          19.99,
          2.99,
          2.99,
          19.99,
          3.49,
          2.49,
          3.99,
          2.49,
          2.49,
          0,
          2.99,
          0,
          2.99,
          7.99,
          9.99,
          9.99,
          8.99,
          8.99,
          9.99,
          9.99,
          9.99,
          5.99,
          6.99,
          1.99,
          3.99,
          13.99,
          0,
          0,
          1.99,
          4.79,
          6.99,
          4.99,
          19.99,
          14.99,
          9.99,
          6.99,
          9.99,
          6.99,
          14.99,
          19.99,
          8.99,
          5.59,
          4.99,
          4.99,
          4.99,
          9.99,
          9.99,
          19.99,
          9.99,
          0,
          6.99,
          6.99,
          0,
          6.99,
          6.99,
          6.99,
          6.99,
          1.79,
          3.99,
          5.59,
          5.59,
          4.79,
          3.99,
          3.99,
          3.99,
          3.49,
          3.99,
          3.49,
          3.49,
          5.99,
          5.99,
          9.99,
          5.99,
          5.99,
          5.99,
          0,
          0,
          9.99,
          19.99,
          14.99,
          6.99,
          6.99,
          6.99,
          6.99,
          16.99,
          10.99,
          10.99,
          3.99,
          10.99,
          10.99,
          3.99,
          2.99,
          6.99,
          6.99,
          6.99,
          6.99,
          4.99,
          5.99,
          4.99,
          4.99,
          4.99,
          6.99,
          4.99,
          6.99,
          4.99,
          6.99,
          6.99,
          6.99,
          3.99,
          0,
          8.99,
          13.99,
          8.99,
          5.99,
          5.99,
          8.59,
          8.59,
          8.59,
          8.59,
          4.29,
          8.59,
          8.59,
          8.59,
          4.29,
          4.29,
          4.29,
          8.59,
          8.59,
          4.29,
          4.29,
          8.59,
          4.29,
          8.59,
          4.29,
          4.29,
          4.29,
          8.59,
          8.69,
          8.59,
          8.59,
          8.59,
          5.79,
          6.99,
          6.99,
          6.99,
          14.99,
          1.99,
          1.99,
          3.99,
          6.99,
          5.99,
          6.99,
          5.99,
          5.99,
          5.99,
          5.99,
          5.99,
          6.99,
          5.99,
          6.99,
          5.99,
          5.99,
          5.99,
          5.99,
          5.99,
          5.99,
          5.99,
          7.49,
          9.99,
          1.99,
          5.99,
          16.99,
          0.79,
          1.69,
          1.69,
          9.99,
          15.49,
          0,
          5.99,
          1.49,
          6.99,
          6.99,
          9.99,
          7.99,
          14.99,
          9.99,
          9.99,
          9.99,
          14.99,
          7.99,
          14.99,
          9.99,
          0,
          0,
          6.99,
          0,
          5.99,
          5.99,
          7.99,
          7.99,
          9.99,
          6.99,
          3.99,
          7.19,
          6.99,
          6.99,
          3.99,
          6.99,
          6.99,
          6.99,
          3.99,
          17.99,
          7.99,
          11.99,
          7.99,
          3.99,
          3.99,
          2.99,
          4.29,
          4.29,
          8.59,
          8.59,
          13.99,
          7.99,
          4.99,
          9.99,
          4.99,
          14.99,
          5.99,
          5.99,
          6.99,
          6.99,
          14.99,
          14.99,
          3.99,
          3.99,
          35.96,
          12.99,
          9.99,
          2.99,
          4.79,
          4.99,
          3.49,
          13.99,
          6.49,
          6.49,
          13.99,
          8.59,
          8.59,
          8.59,
          6.99,
          7.99,
          0,
          9.99,
          0,
          6.99,
          6.99,
          7.99,
          3.99,
          12.99,
          12.99,
          0,
          14.99,
          7.99,
          3.99,
          5.99,
          14.99,
          6.99,
          6.99,
          6.99,
          1.59,
          3.99,
          3.99,
          7.99,
          7.99,
          6.99,
          4.79,
          7.99,
          6.99,
          6.99,
          6.99,
          10.99,
          34.99,
          0,
          10.99,
          7.99,
          6.99,
          6.99,
          3.99,
          7.99,
          14.99,
          14.99,
          7.19,
          9.99,
          9.99,
          9.99,
          9.99,
          9.99,
          9.99,
          9.99,
          9.99,
          14.99,
          19.99,
          22.99,
          7.99,
          1.99,
          0,
          4.79,
          3.99,
          9.99,
          7.49,
          3.99,
          7.99,
          4.99,
          6.99,
          7.99,
          7.99,
          7.99,
          8.99,
          3.99,
          10.99,
          15.99,
          6.99,
          3.99,
          4.99,
          15.99,
          0.79,
          14.99,
          5.99,
          6.99,
          5.99,
          3.99,
          1.69,
          4.79,
          7.99,
          3.99,
          3.99,
          3.99,
          6.99,
          0.99,
          6.99,
          3.99,
          15.99,
          5.19,
          5.19,
          5.19,
          5.19,
          5.19,
          5.19,
          5.19,
          5.19,
          5.19,
          5.19,
          5.19,
          5.19,
          5.19,
          5.19,
          5.19,
          3.99,
          5.99,
          6.99,
          5.99,
          3.99,
          6.99,
          6.99,
          4.79,
          15.49,
          4.79,
          4.79,
          7.19,
          7.19,
          4.79,
          2.09,
          4.79,
          4.79,
          15.49,
          15.49,
          15.49,
          15.49,
          7.19,
          15.49,
          15.49,
          15.49,
          14.99,
          3.99,
          3.99,
          6.99,
          6.99,
          14.99,
          0,
          0,
          6.99,
          6.99,
          6.99,
          6.99,
          6.99,
          6.99,
          14.99,
          13.99,
          3.99,
          3.99,
          3.99,
          3.99,
          7.19,
          8.59,
          8.59,
          8.59,
          8.59,
          5.99,
          3.99,
          4.99,
          4.99,
          3.99,
          4.99,
          4.99,
          9.99,
          3.99,
          4.99,
          14.99,
          14.99,
          7.99,
          11.99,
          3.99,
          8.99,
          9.99,
          9.99,
          0,
          4.99,
          4.99,
          3.99,
          11.99,
          5.99,
          6.99,
          6.99,
          3.99,
          2.99,
          4.99,
          5.99,
          6.99,
          0.79,
          6.99,
          7.99,
          2.99,
          7.99,
          14.99,
          9.99,
          6.99,
          10.99,
          14.99,
          6.99,
          7.99,
          3.99,
          9.99,
          13.99,
          0,
          3.99,
          3.99,
          10.99,
          10.99,
          3.49,
          4.99,
          4.99,
          4.99,
          4.99,
          6.99,
          6.99,
          6.99,
          6.99,
          9.99,
          3.99,
          7.49,
          7.49,
          7.49,
          7.49,
          7.49,
          10.99,
          7.49,
          6.99,
          4.99,
          4.99,
          4.99,
          4.99,
          4.99,
          4.99,
          4.99,
          2.99,
          1.49,
          1.99,
          14.99,
          7.99,
          14.99,
          6.99,
          6.99,
          6.99,
          6.99,
          6.99,
          6.99,
          3.99,
          3.99,
          3.99,
          6.99,
          6.99,
          6.99,
          6.99,
          6.99,
          0.79,
          5.59,
          7.99,
          7.99,
          7.99,
          6.99,
          6.99,
          6.99,
          14.99,
          6.99,
          3.99,
          3.99,
          4.99,
          0,
          2.99,
          0,
          9.99,
          9.99,
          4.99,
          4.99,
          9.99,
          8.99,
          8.99,
          8.99,
          8.99,
          8.99,
          4.49,
          4.49,
          8.99,
          8.99,
          4.49,
          8.99,
          17.99,
          1.79,
          3.99,
          8.99,
          6.99,
          6.99,
          7.99,
          3.99,
          7.99,
          7.99,
          7.99,
          3.99,
          7.99,
          6.99,
          3.99,
          2.09,
          7.99,
          3.99,
          3.99,
          3.49,
          7.49,
          11.99,
          7.99,
          10.99,
          29.99,
          3.99,
          0,
          1.99,
          10.99,
          14.99,
          6.99,
          6.99,
          12.99,
          6.99,
          10.99,
          6.99,
          3.49,
          7.99,
          6.99,
          10.99,
          5.19,
          5.19,
          4.99,
          1.99,
          14.99,
          29.99,
          7.99,
          7.99,
          7.99,
          7.99,
          7.99,
          1.59,
          1.59,
          1.59,
          14.99,
          7.99,
          14.99,
          7.99,
          4.99,
          5.99,
          7.99,
          5.19,
          2.99,
          19.98,
          9.99,
          3.99,
          8.99,
          4.99,
          7.19,
          3.99,
          6.99,
          0.99,
          6.99,
          6.99,
          1.59,
          15.99,
          6.49,
          12.99,
          2.99,
          14.99,
          12.99,
          22.99,
          14.99,
          3.99,
          0,
          4.99,
          3.99,
          2.79,
          2.79,
          2.79,
          3.99,
          2.79,
          3.99,
          3.99,
          2.79,
          3.99,
          6.99,
          3.99,
          6.99,
          5.59,
          5.59,
          9.99,
          9.99,
          6.99,
          3.99,
          5.59,
          6.99,
          2.89,
          34.95,
          34.95,
          6.99,
          7.99,
          2.09,
          9.99,
          34.95,
          10.99,
          10.99,
          34.95,
          34.95,
          10.99,
          6.99,
          6.99,
          6.99,
          0,
          0,
          9.99,
          9.99,
          14.99,
          14.99,
          7.99,
          19.99,
          14.99,
          24.99,
          19.99,
          6.99,
          25.99,
          8.59,
          12.49,
          16.99,
          14.99,
          7.99,
          14.99,
          6.99,
          4.99,
          7.99,
          3.99,
          0,
          19.99,
          6.99,
          3.99,
          3.99,
          3.99,
          5.99,
          19.99,
          19.99,
          6.99,
          4.99,
          6.99,
          6.99,
          6.99,
          6.99,
          4.99,
          4.99,
          6.99,
          6.99,
          6.99,
          4.99,
          6.99,
          6.99,
          6.99,
          6.99,
          14.99,
          14.99,
          14.99,
          19.99,
          6.99,
          1.99,
          1.99,
          14.99,
          9.99,
          4.99,
          6.99,
          6.99,
          12.49,
          3.99,
          14.99,
          2.99,
          14.99,
          6.99,
          6.99,
          3.49,
          7.99,
          6.99,
          6.99,
          6.99,
          7.99,
          6.99,
          6.99,
          0,
          6.99,
          4.99,
          4.99,
          4.99,
          3.99,
          6.99,
          6.99,
          3.99,
          8.59,
          4.99,
          2.99,
          3.99,
          6.99,
          7.19,
          3.99,
          6.99,
          3.99,
          6.99,
          3.99,
          6.99,
          6.99,
          3.99,
          3.99,
          11.99,
          5.59,
          4.99,
          7.19,
          2.09,
          3.99,
          7.19,
          6.99,
          4.49,
          13.99,
          0,
          4.49,
          8.99,
          13.99,
          3.99,
          11.99,
          19.99,
          5.99,
          3.49,
          9.99,
          14.99,
          29.99,
          4.99,
          19.99,
          6.99,
          0.79,
          0.79,
          0.79,
          5.79,
          14.99,
          3.99,
          12.99,
          6.49,
          0.79,
          10.99,
          6.99,
          4.99,
          5.59,
          5.59,
          7.19,
          14.99,
          5.59,
          5.59,
          5.59,
          0,
          6.99,
          0.79,
          9.99,
          0,
          14.99,
          8.99,
          7.99,
          14.99,
          7.99,
          6.99,
          4.25,
          11.99,
          6.99,
          3.49,
          6.99,
          3.99,
          3.99,
          3.99,
          6.99,
          7.19,
          2.99,
          6.99,
          7.99,
          10.99,
          7.19,
          6.99,
          3.99,
          6.99,
          6.99,
          3.99,
          0.79,
          2.79,
          2.79,
          2.79,
          3.99,
          1.49,
          7.19,
          6.99,
          6.99,
          2.09,
          11.39,
          2.89,
          6.99,
          2.79,
          6.99,
          6.99,
          14.99,
          6.99,
          5.99,
          8.99,
          0,
          4.79,
          3.99,
          0.79,
          11.39,
          7.99,
          6.99,
          6.99,
          6.99,
          6.99,
          6.99,
          6.99,
          6.99,
          4.39,
          18.99,
          4.99,
          9.99,
          1.99,
          4.79,
          3.49,
          3.99,
          10.99,
          6.99,
          9.99,
          3.99,
          3.99,
          6.99,
          0,
          0,
          95.99,
          7.99,
          6.99,
          19.99,
          7.99,
          7.99,
          7.19,
          7.99,
          2.99,
          2.99,
          4.99,
          1.59,
          0.79,
          7.99,
          4.79,
          1.59,
          6.99,
          29.99,
          6.99,
          0.79,
          6.99,
          11.39,
          6.99,
          0,
          0,
          29.99,
          3.99,
          10.59,
          6.99,
          0,
          14.99,
          9.99,
          6.99,
          11.39,
          19.99,
          6.99,
          3.99,
          0,
          14.99,
          6.99,
          0,
          3.99,
          3.99,
          3.99,
          19.99,
          4.99,
          6.99,
          3.99,
          3.99,
          6.99,
          6.99,
          10.99,
          3.99,
          0,
          0,
          6.99,
          6.99,
          10.99,
          3.99,
          3.99,
          3.99,
          19.99,
          18.99,
          6.99,
          6.99,
          3.99,
          5.19,
          4.99,
          22.99,
          10.99,
          6.99,
          0,
          3.99,
          14.99,
          7.99,
          5.59,
          5.59,
          9.99,
          14.99,
          14.99,
          9.99,
          14.99,
          10.99,
          0,
          0,
          0,
          0,
          0,
          0,
          0,
          0,
          15.49,
          10.99,
          3.99,
          6.99,
          6.99,
          3.99,
          11.99,
          14.99,
          12.49,
          14.99,
          14.99,
          7.99,
          4.99,
          3.99,
          5.19,
          10.99,
          7.19,
          7.19,
          6.19,
          3.99,
          39.99,
          14.99,
          14.99,
          7.19,
          0,
          6.99,
          12.99,
          3.99,
          18.99,
          5.99,
          10.99,
          9.99,
          29.99,
          26.99,
          4.79,
          6.99,
          4.99,
          14.99,
          14.99,
          0.79,
          6.99,
          6.99,
          0,
          6.99,
          9.99,
          6.99,
          6.99,
          11.39,
          6.99,
          7.99,
          10.99,
          22.99,
          5.59,
          30.99,
          7.99,
          0.79,
          8.99,
          6.99,
          6.99,
          6.99,
          6.99,
          7.99,
          25.99,
          9.99,
          14.99,
          6.99,
          4.79,
          9.99,
          14.99,
          3.99,
          0,
          11.99,
          9.99,
          6.99,
          6.99,
          4.99,
          6.99,
          5.59,
          14.99,
          0,
          3.99,
          3.99,
          6,
          0,
          1.59,
          6.99,
          7.19,
          6.99,
          10.99,
          6.99,
          0,
          0,
          6.99,
          2.99,
          7.99,
          7.99,
          6.99,
          10.99,
          10.99,
          6.99,
          0,
          2.79,
          9.99,
          12.99,
          1.99,
          4.79,
          4.79,
          1.99,
          4.99,
          8.59,
          3.99,
          3.99,
          6.99,
          1.59,
          7.99,
          3.99,
          2.79,
          6.19,
          7.99,
          7.99,
          6.99,
          0,
          14.99,
          6.99,
          11.99,
          14.99,
          10.99,
          7.19,
          10.99,
          6.99,
          6.99,
          6.99,
          15.99,
          6.99,
          6.99,
          10.99,
          10.99,
          0,
          10.99,
          3.99,
          22.99,
          22.99,
          39.99,
          6.99,
          6.99,
          0,
          3.99,
          7.19,
          9.99,
          3.99,
          14.99,
          6.99,
          6.99,
          39.99,
          14.99,
          3.99,
          11.99,
          10.99,
          6.99,
          11.39,
          1.59,
          6.99,
          2.89,
          14.99,
          11.39,
          8.59,
          6.99,
          29.99,
          7.19,
          9.99,
          6.99,
          6.99,
          6.99,
          10.99,
          4.99,
          9.99,
          3.99,
          0,
          3.99,
          4.99,
          4.99,
          4.99,
          3.99,
          11.99,
          6.99,
          14.99,
          5.59,
          6.99,
          6.99,
          0,
          4.99,
          0,
          0,
          0,
          12.49,
          6.99,
          4.79,
          9.99,
          0,
          1.69,
          14.99,
          10.99,
          0,
          5.99,
          0,
          25.99,
          6.99,
          6.99,
          15.49,
          6.99,
          4.79,
          12.49,
          6.99,
          5.59,
          0,
          29.99,
          4.99,
          5.59,
          5.59,
          5.59,
          15.49,
          3.99,
          11.99,
          9.99,
          2.99,
          6.99,
          17.99,
          7.19,
          29.99,
          6.49,
          0,
          17.99,
          0,
          29.99,
          5.59,
          3.99,
          10.99,
          6.99,
          6.99,
          1.99,
          10.99,
          6.99,
          3.99,
          4.99,
          0,
          0,
          4.99,
          6.99,
          3.99,
          10.99,
          0,
          7.99,
          15.49,
          3.99,
          4.99,
          11.99,
          10.99,
          6.99,
          6.99,
          10.99,
          10.99,
          2.89,
          6.99,
          7.99,
          0,
          6.99,
          14.99,
          3.99,
          14.99,
          10.99,
          14.99,
          0,
          10.99,
          6.99,
          7.49,
          6.99,
          4.99,
          14.99,
          9.99,
          6.99,
          14.99,
          3.99,
          6.99,
          7.19,
          7.19,
          0,
          18.99,
          6.99,
          0,
          4.79,
          14.99,
          0,
          14.99,
          15.99,
          5.59,
          19.99,
          5.99,
          16.99,
          29.99,
          16.99,
          11.39,
          15.49,
          23.99,
          2.09,
          22.99,
          52.99,
          15.99,
          5.99,
          6.99,
          2.99,
          3.99,
          9.99,
          19.99,
          33.99,
          10.99,
          6.99,
          14.99,
          10.99,
          1.99,
          25.99,
          9.99,
          17.99,
          9.99,
          5.59,
          1.99,
          10.99,
          10.99,
          23.99,
          0,
          0,
          12.39,
          6.99,
          14.99,
          6.99,
          14.99,
          1.99,
          6.99,
          24.99,
          10.99,
          3.99,
          10.99,
          3.99,
          3.99,
          11.99,
          6.99,
          6.99,
          11.99,
          0,
          7.49,
          0,
          9.99,
          18.99,
          0,
          6.99,
          0,
          4.99,
          8.49,
          11.99,
          10.99,
          0,
          6.99,
          22.99,
          6.99,
          4.99,
          5.99,
          14.99,
          4.99,
          4.99,
          4.99,
          4.99,
          4.99,
          4.99,
          10.99,
          6.99,
          10.99,
          10.99,
          4.99,
          4.99,
          6.99,
          14.99,
          11.99,
          0,
          10.99,
          0,
          6.99,
          3.99,
          10.99,
          19.99,
          11.99,
          19.99,
          6.99,
          7.99,
          15.49,
          22.99,
          23.79,
          10.99,
          6.99,
          10.99,
          10.99,
          10.99,
          14.99,
          6.99,
          0,
          14.99,
          6.99,
          5.59,
          3.99,
          9.99,
          14.99,
          7.99,
          7.19,
          18.99,
          6.99,
          6.99,
          0,
          0,
          19.49,
          14.99,
          22.99,
          0,
          10.99,
          38.99,
          5.59,
          16.99,
          7.19,
          11.99,
          1.99,
          14.99,
          5.99,
          6.99,
          9.99,
          16.99,
          9.99,
          14.99,
          1.99,
          11.39,
          6.99,
          22.99,
          10.99,
          19.49,
          0,
          0,
          10.99,
          10.99,
          3.99,
          16.99,
          6.99,
          4.49,
          6.99,
          6.99,
          7.49,
          11.99,
          18.99,
          10.99,
          17.99,
          14.99,
          3.99,
          7.99,
          3.99,
          14.99,
          19.99,
          10.99,
          11.99,
          1.49,
          11.39,
          24.99,
          8.59,
          15.99,
          7.99,
          11.99,
          29.99,
          6.99,
          6.99,
          11.39,
          3.99,
          12.49,
          19.99,
          6.99,
          4.99,
          1.59,
          23.79,
          6.99,
          0,
          6.99,
          19.49,
          6.99,
          3.99,
          18.99,
          22.99,
          9.99,
          19.99,
          15.99,
          4.99,
          3.99,
          26.99,
          1.99,
          0,
          6.99,
          6.99,
          8.99,
          7.19,
          23.39,
          10.99,
          14.99,
          0,
          6.99,
          10.99,
          3.99,
          3.99,
          11.99,
          3.99,
          3.99,
          0,
          6.99,
          7.19,
          0,
          19.99,
          7.19,
          22.99,
          16.99,
          6.99,
          3.99,
          3.99,
          10.99,
          6.99,
          18.99,
          6.99,
          8.99,
          11.99,
          0,
          22.99,
          26.99,
          1.99,
          6.95,
          0,
          29.99,
          7.99,
          14.99,
          7.99,
          3.99,
          14.99,
          11.49,
          6.99,
          34.99,
          6.99,
          7.19,
          0,
          18.99,
          17.99,
          14.99,
          10.99,
          1.69,
          11.99,
          3.99,
          6.99,
          18.99,
          7.19,
          10.99,
          15.49,
          4.99,
          16.99,
          18.74,
          12.99,
          6.99,
          22.99,
          6.99,
          10.99,
          0,
          15.49,
          10.99,
          6.99,
          10.99,
          5.59,
          6.99,
          20.99,
          10.99,
          3.99,
          6.99,
          14.99,
          0,
          6.99,
          6.99,
          11.99,
          10.99,
          24.99,
          19.99,
          14.99,
          24.99,
          6.99,
          7.19,
          29.99,
          3.99,
          6.99,
          14.99,
          0,
          6.99,
          6.99,
          14.99,
          6.99,
          6.99,
          5.79,
          23.79,
          6.99,
          24.99,
          7.19,
          19.99,
          5.79,
          7.19,
          6.99,
          25.99,
          10.99,
          6.99,
          10.99,
          6.99,
          16.99,
          16.99,
          9.99,
          18.99,
          6.99,
          18.99,
          24.99,
          9.29,
          14.99,
          0,
          15.49,
          10.99,
          3.99,
          14.99,
          15.49,
          14.99,
          14.99,
          6.99,
          3.99,
          10.99,
          26.99,
          10.99,
          4.99,
          16.99,
          4.99,
          25.99,
          6.99,
          18.99,
          14.99,
          29.99,
          14.99,
          20.99,
          0,
          3.99,
          3.99,
          26.99,
          15.49,
          9.99,
          12.99,
          19.99,
          0,
          6.99,
          6.99,
          3.99,
          14.99,
          10.99,
          9.99,
          60.99,
          15.49,
          5.49,
          6.49,
          10.99,
          0,
          5.59,
          17.99,
          6.99,
          14.99,
          15.49,
          7.49,
          4.79,
          0,
          0,
          6.99,
          18.99,
          16.99,
          14.99,
          9.99,
          6.99,
          14.99,
          6.99,
          14.99,
          11.99,
          6.99,
          8.99,
          4.99,
          6.19,
          14.99,
          6.99,
          0,
          5.59,
          6.99,
          9.99,
          6.99,
          22.99,
          3.99,
          7.19,
          5.19,
          6.99,
          10.99,
          5.59,
          6.99,
          6.99,
          8.29,
          19.99,
          6.99,
          6.99,
          10.99,
          69.99,
          4.99,
          9.99,
          10.99,
          4.79,
          7.19,
          4.99,
          13.99,
          6.99,
          14.99,
          10.99,
          11.99,
          0,
          14.99,
          11.99,
          2.79,
          3.99,
          6.99,
          11.39,
          8.99,
          14.99,
          14.99,
          10.99,
          2.79,
          1.69,
          6.99,
          12.49,
          6.99,
          1.99,
          26.99,
          3.99,
          14.99,
          14.99,
          10.99,
          6.99,
          6.99,
          10.99,
          5.99,
          10.99,
          11.99,
          7.19,
          6.99,
          10.99,
          0,
          6.99,
          2.09,
          9.99,
          9.99,
          6.99,
          6.99,
          0,
          13.49,
          5.59,
          6.99,
          19.99,
          10.99,
          6.99,
          18.99,
          10.99,
          13.49,
          24.99,
          23.79,
          11.39,
          12.99,
          15.49,
          6.99,
          7.19,
          10.99,
          22.99,
          9.99,
          3.99,
          6.99,
          11.99,
          0,
          10.99,
          10.99,
          6.99,
          3.99,
          18.99,
          3.99,
          6.99,
          3.99,
          17.99,
          3.99,
          78.99,
          5.99,
          11.99,
          6.99,
          14.99,
          6.99,
          0,
          6.99,
          3.99,
          10.99,
          4.99,
          7.19
         ],
         "xaxis": "x",
         "yaxis": "y"
        }
       ],
       "layout": {
        "barmode": "relative",
        "legend": {
         "tracegroupgap": 0
        },
        "margin": {
         "t": 60
        },
        "template": {
         "data": {
          "bar": [
           {
            "error_x": {
             "color": "#2a3f5f"
            },
            "error_y": {
             "color": "#2a3f5f"
            },
            "marker": {
             "line": {
              "color": "#E5ECF6",
              "width": 0.5
             },
             "pattern": {
              "fillmode": "overlay",
              "size": 10,
              "solidity": 0.2
             }
            },
            "type": "bar"
           }
          ],
          "barpolar": [
           {
            "marker": {
             "line": {
              "color": "#E5ECF6",
              "width": 0.5
             },
             "pattern": {
              "fillmode": "overlay",
              "size": 10,
              "solidity": 0.2
             }
            },
            "type": "barpolar"
           }
          ],
          "carpet": [
           {
            "aaxis": {
             "endlinecolor": "#2a3f5f",
             "gridcolor": "white",
             "linecolor": "white",
             "minorgridcolor": "white",
             "startlinecolor": "#2a3f5f"
            },
            "baxis": {
             "endlinecolor": "#2a3f5f",
             "gridcolor": "white",
             "linecolor": "white",
             "minorgridcolor": "white",
             "startlinecolor": "#2a3f5f"
            },
            "type": "carpet"
           }
          ],
          "choropleth": [
           {
            "colorbar": {
             "outlinewidth": 0,
             "ticks": ""
            },
            "type": "choropleth"
           }
          ],
          "contour": [
           {
            "colorbar": {
             "outlinewidth": 0,
             "ticks": ""
            },
            "colorscale": [
             [
              0,
              "#0d0887"
             ],
             [
              0.1111111111111111,
              "#46039f"
             ],
             [
              0.2222222222222222,
              "#7201a8"
             ],
             [
              0.3333333333333333,
              "#9c179e"
             ],
             [
              0.4444444444444444,
              "#bd3786"
             ],
             [
              0.5555555555555556,
              "#d8576b"
             ],
             [
              0.6666666666666666,
              "#ed7953"
             ],
             [
              0.7777777777777778,
              "#fb9f3a"
             ],
             [
              0.8888888888888888,
              "#fdca26"
             ],
             [
              1,
              "#f0f921"
             ]
            ],
            "type": "contour"
           }
          ],
          "contourcarpet": [
           {
            "colorbar": {
             "outlinewidth": 0,
             "ticks": ""
            },
            "type": "contourcarpet"
           }
          ],
          "heatmap": [
           {
            "colorbar": {
             "outlinewidth": 0,
             "ticks": ""
            },
            "colorscale": [
             [
              0,
              "#0d0887"
             ],
             [
              0.1111111111111111,
              "#46039f"
             ],
             [
              0.2222222222222222,
              "#7201a8"
             ],
             [
              0.3333333333333333,
              "#9c179e"
             ],
             [
              0.4444444444444444,
              "#bd3786"
             ],
             [
              0.5555555555555556,
              "#d8576b"
             ],
             [
              0.6666666666666666,
              "#ed7953"
             ],
             [
              0.7777777777777778,
              "#fb9f3a"
             ],
             [
              0.8888888888888888,
              "#fdca26"
             ],
             [
              1,
              "#f0f921"
             ]
            ],
            "type": "heatmap"
           }
          ],
          "heatmapgl": [
           {
            "colorbar": {
             "outlinewidth": 0,
             "ticks": ""
            },
            "colorscale": [
             [
              0,
              "#0d0887"
             ],
             [
              0.1111111111111111,
              "#46039f"
             ],
             [
              0.2222222222222222,
              "#7201a8"
             ],
             [
              0.3333333333333333,
              "#9c179e"
             ],
             [
              0.4444444444444444,
              "#bd3786"
             ],
             [
              0.5555555555555556,
              "#d8576b"
             ],
             [
              0.6666666666666666,
              "#ed7953"
             ],
             [
              0.7777777777777778,
              "#fb9f3a"
             ],
             [
              0.8888888888888888,
              "#fdca26"
             ],
             [
              1,
              "#f0f921"
             ]
            ],
            "type": "heatmapgl"
           }
          ],
          "histogram": [
           {
            "marker": {
             "pattern": {
              "fillmode": "overlay",
              "size": 10,
              "solidity": 0.2
             }
            },
            "type": "histogram"
           }
          ],
          "histogram2d": [
           {
            "colorbar": {
             "outlinewidth": 0,
             "ticks": ""
            },
            "colorscale": [
             [
              0,
              "#0d0887"
             ],
             [
              0.1111111111111111,
              "#46039f"
             ],
             [
              0.2222222222222222,
              "#7201a8"
             ],
             [
              0.3333333333333333,
              "#9c179e"
             ],
             [
              0.4444444444444444,
              "#bd3786"
             ],
             [
              0.5555555555555556,
              "#d8576b"
             ],
             [
              0.6666666666666666,
              "#ed7953"
             ],
             [
              0.7777777777777778,
              "#fb9f3a"
             ],
             [
              0.8888888888888888,
              "#fdca26"
             ],
             [
              1,
              "#f0f921"
             ]
            ],
            "type": "histogram2d"
           }
          ],
          "histogram2dcontour": [
           {
            "colorbar": {
             "outlinewidth": 0,
             "ticks": ""
            },
            "colorscale": [
             [
              0,
              "#0d0887"
             ],
             [
              0.1111111111111111,
              "#46039f"
             ],
             [
              0.2222222222222222,
              "#7201a8"
             ],
             [
              0.3333333333333333,
              "#9c179e"
             ],
             [
              0.4444444444444444,
              "#bd3786"
             ],
             [
              0.5555555555555556,
              "#d8576b"
             ],
             [
              0.6666666666666666,
              "#ed7953"
             ],
             [
              0.7777777777777778,
              "#fb9f3a"
             ],
             [
              0.8888888888888888,
              "#fdca26"
             ],
             [
              1,
              "#f0f921"
             ]
            ],
            "type": "histogram2dcontour"
           }
          ],
          "mesh3d": [
           {
            "colorbar": {
             "outlinewidth": 0,
             "ticks": ""
            },
            "type": "mesh3d"
           }
          ],
          "parcoords": [
           {
            "line": {
             "colorbar": {
              "outlinewidth": 0,
              "ticks": ""
             }
            },
            "type": "parcoords"
           }
          ],
          "pie": [
           {
            "automargin": true,
            "type": "pie"
           }
          ],
          "scatter": [
           {
            "marker": {
             "colorbar": {
              "outlinewidth": 0,
              "ticks": ""
             }
            },
            "type": "scatter"
           }
          ],
          "scatter3d": [
           {
            "line": {
             "colorbar": {
              "outlinewidth": 0,
              "ticks": ""
             }
            },
            "marker": {
             "colorbar": {
              "outlinewidth": 0,
              "ticks": ""
             }
            },
            "type": "scatter3d"
           }
          ],
          "scattercarpet": [
           {
            "marker": {
             "colorbar": {
              "outlinewidth": 0,
              "ticks": ""
             }
            },
            "type": "scattercarpet"
           }
          ],
          "scattergeo": [
           {
            "marker": {
             "colorbar": {
              "outlinewidth": 0,
              "ticks": ""
             }
            },
            "type": "scattergeo"
           }
          ],
          "scattergl": [
           {
            "marker": {
             "colorbar": {
              "outlinewidth": 0,
              "ticks": ""
             }
            },
            "type": "scattergl"
           }
          ],
          "scattermapbox": [
           {
            "marker": {
             "colorbar": {
              "outlinewidth": 0,
              "ticks": ""
             }
            },
            "type": "scattermapbox"
           }
          ],
          "scatterpolar": [
           {
            "marker": {
             "colorbar": {
              "outlinewidth": 0,
              "ticks": ""
             }
            },
            "type": "scatterpolar"
           }
          ],
          "scatterpolargl": [
           {
            "marker": {
             "colorbar": {
              "outlinewidth": 0,
              "ticks": ""
             }
            },
            "type": "scatterpolargl"
           }
          ],
          "scatterternary": [
           {
            "marker": {
             "colorbar": {
              "outlinewidth": 0,
              "ticks": ""
             }
            },
            "type": "scatterternary"
           }
          ],
          "surface": [
           {
            "colorbar": {
             "outlinewidth": 0,
             "ticks": ""
            },
            "colorscale": [
             [
              0,
              "#0d0887"
             ],
             [
              0.1111111111111111,
              "#46039f"
             ],
             [
              0.2222222222222222,
              "#7201a8"
             ],
             [
              0.3333333333333333,
              "#9c179e"
             ],
             [
              0.4444444444444444,
              "#bd3786"
             ],
             [
              0.5555555555555556,
              "#d8576b"
             ],
             [
              0.6666666666666666,
              "#ed7953"
             ],
             [
              0.7777777777777778,
              "#fb9f3a"
             ],
             [
              0.8888888888888888,
              "#fdca26"
             ],
             [
              1,
              "#f0f921"
             ]
            ],
            "type": "surface"
           }
          ],
          "table": [
           {
            "cells": {
             "fill": {
              "color": "#EBF0F8"
             },
             "line": {
              "color": "white"
             }
            },
            "header": {
             "fill": {
              "color": "#C8D4E3"
             },
             "line": {
              "color": "white"
             }
            },
            "type": "table"
           }
          ]
         },
         "layout": {
          "annotationdefaults": {
           "arrowcolor": "#2a3f5f",
           "arrowhead": 0,
           "arrowwidth": 1
          },
          "autotypenumbers": "strict",
          "coloraxis": {
           "colorbar": {
            "outlinewidth": 0,
            "ticks": ""
           }
          },
          "colorscale": {
           "diverging": [
            [
             0,
             "#8e0152"
            ],
            [
             0.1,
             "#c51b7d"
            ],
            [
             0.2,
             "#de77ae"
            ],
            [
             0.3,
             "#f1b6da"
            ],
            [
             0.4,
             "#fde0ef"
            ],
            [
             0.5,
             "#f7f7f7"
            ],
            [
             0.6,
             "#e6f5d0"
            ],
            [
             0.7,
             "#b8e186"
            ],
            [
             0.8,
             "#7fbc41"
            ],
            [
             0.9,
             "#4d9221"
            ],
            [
             1,
             "#276419"
            ]
           ],
           "sequential": [
            [
             0,
             "#0d0887"
            ],
            [
             0.1111111111111111,
             "#46039f"
            ],
            [
             0.2222222222222222,
             "#7201a8"
            ],
            [
             0.3333333333333333,
             "#9c179e"
            ],
            [
             0.4444444444444444,
             "#bd3786"
            ],
            [
             0.5555555555555556,
             "#d8576b"
            ],
            [
             0.6666666666666666,
             "#ed7953"
            ],
            [
             0.7777777777777778,
             "#fb9f3a"
            ],
            [
             0.8888888888888888,
             "#fdca26"
            ],
            [
             1,
             "#f0f921"
            ]
           ],
           "sequentialminus": [
            [
             0,
             "#0d0887"
            ],
            [
             0.1111111111111111,
             "#46039f"
            ],
            [
             0.2222222222222222,
             "#7201a8"
            ],
            [
             0.3333333333333333,
             "#9c179e"
            ],
            [
             0.4444444444444444,
             "#bd3786"
            ],
            [
             0.5555555555555556,
             "#d8576b"
            ],
            [
             0.6666666666666666,
             "#ed7953"
            ],
            [
             0.7777777777777778,
             "#fb9f3a"
            ],
            [
             0.8888888888888888,
             "#fdca26"
            ],
            [
             1,
             "#f0f921"
            ]
           ]
          },
          "colorway": [
           "#636efa",
           "#EF553B",
           "#00cc96",
           "#ab63fa",
           "#FFA15A",
           "#19d3f3",
           "#FF6692",
           "#B6E880",
           "#FF97FF",
           "#FECB52"
          ],
          "font": {
           "color": "#2a3f5f"
          },
          "geo": {
           "bgcolor": "white",
           "lakecolor": "white",
           "landcolor": "#E5ECF6",
           "showlakes": true,
           "showland": true,
           "subunitcolor": "white"
          },
          "hoverlabel": {
           "align": "left"
          },
          "hovermode": "closest",
          "mapbox": {
           "style": "light"
          },
          "paper_bgcolor": "white",
          "plot_bgcolor": "#E5ECF6",
          "polar": {
           "angularaxis": {
            "gridcolor": "white",
            "linecolor": "white",
            "ticks": ""
           },
           "bgcolor": "#E5ECF6",
           "radialaxis": {
            "gridcolor": "white",
            "linecolor": "white",
            "ticks": ""
           }
          },
          "scene": {
           "xaxis": {
            "backgroundcolor": "#E5ECF6",
            "gridcolor": "white",
            "gridwidth": 2,
            "linecolor": "white",
            "showbackground": true,
            "ticks": "",
            "zerolinecolor": "white"
           },
           "yaxis": {
            "backgroundcolor": "#E5ECF6",
            "gridcolor": "white",
            "gridwidth": 2,
            "linecolor": "white",
            "showbackground": true,
            "ticks": "",
            "zerolinecolor": "white"
           },
           "zaxis": {
            "backgroundcolor": "#E5ECF6",
            "gridcolor": "white",
            "gridwidth": 2,
            "linecolor": "white",
            "showbackground": true,
            "ticks": "",
            "zerolinecolor": "white"
           }
          },
          "shapedefaults": {
           "line": {
            "color": "#2a3f5f"
           }
          },
          "ternary": {
           "aaxis": {
            "gridcolor": "white",
            "linecolor": "white",
            "ticks": ""
           },
           "baxis": {
            "gridcolor": "white",
            "linecolor": "white",
            "ticks": ""
           },
           "bgcolor": "#E5ECF6",
           "caxis": {
            "gridcolor": "white",
            "linecolor": "white",
            "ticks": ""
           }
          },
          "title": {
           "x": 0.05
          },
          "xaxis": {
           "automargin": true,
           "gridcolor": "white",
           "linecolor": "white",
           "ticks": "",
           "title": {
            "standoff": 15
           },
           "zerolinecolor": "white",
           "zerolinewidth": 2
          },
          "yaxis": {
           "automargin": true,
           "gridcolor": "white",
           "linecolor": "white",
           "ticks": "",
           "title": {
            "standoff": 15
           },
           "zerolinecolor": "white",
           "zerolinewidth": 2
          }
         }
        },
        "xaxis": {
         "anchor": "y",
         "domain": [
          0,
          1
         ],
         "title": {
          "text": "price"
         }
        },
        "yaxis": {
         "anchor": "x",
         "domain": [
          0,
          1
         ],
         "title": {
          "text": "count"
         }
        }
       }
      }
     },
     "metadata": {},
     "output_type": "display_data"
    }
   ],
   "source": [
    "fig = px.histogram(data,x = \"price\")\n",
    "fig.show()"
   ]
  },
  {
   "cell_type": "code",
   "execution_count": 17,
   "metadata": {},
   "outputs": [
    {
     "data": {
      "application/vnd.plotly.v1+json": {
       "config": {
        "plotlyServerURL": "https://plot.ly"
       },
       "data": [
        {
         "alignmentgroup": "True",
         "hovertemplate": "price=%{y}<extra></extra>",
         "legendgroup": "",
         "marker": {
          "color": "#636efa"
         },
         "name": "",
         "notched": false,
         "offsetgroup": "",
         "orientation": "v",
         "showlegend": false,
         "type": "box",
         "x0": " ",
         "xaxis": "x",
         "y": [
          7.19,
          3.99,
          3.99,
          3.99,
          3.99,
          3.99,
          7.19,
          7.19,
          3.99,
          7.19,
          7.19,
          0,
          7.19,
          3.99,
          0,
          0,
          5.79,
          7.19,
          5.79,
          0,
          7.19,
          7.19,
          0,
          7.19,
          0,
          0,
          5.99,
          3.99,
          14.99,
          7.19,
          7.19,
          6.99,
          7.19,
          7.19,
          22.99,
          6.99,
          4.99,
          4.99,
          3.99,
          10.99,
          2.99,
          0,
          3.99,
          6.99,
          4.29,
          12.99,
          12.99,
          2.99,
          3.99,
          3.99,
          3.99,
          3.99,
          3.99,
          2.49,
          2.49,
          12.99,
          2.99,
          2.99,
          2.99,
          0,
          4.29,
          3.99,
          0,
          2.99,
          14.99,
          9.99,
          14.99,
          14.99,
          14.99,
          1.99,
          3.99,
          5.99,
          4.99,
          9.99,
          15.99,
          3.49,
          3.49,
          24.99,
          22.99,
          22.99,
          22.99,
          5.99,
          3.99,
          8.59,
          3.99,
          3.99,
          7.99,
          4.49,
          4.49,
          4.49,
          4.25,
          4.25,
          4.25,
          0,
          4.25,
          4.25,
          4.25,
          4.25,
          4.25,
          4.25,
          4.25,
          4.25,
          4.25,
          4.25,
          4.25,
          4.25,
          4.25,
          5.59,
          5.59,
          6.99,
          3.99,
          7.19,
          6.99,
          6.99,
          6.99,
          9.99,
          2.99,
          5.99,
          2.99,
          5.99,
          2.99,
          6.99,
          5.99,
          25.99,
          3.99,
          5.99,
          7.99,
          6.99,
          7.99,
          9.99,
          7.99,
          4.99,
          0,
          9.99,
          9.99,
          0,
          9.99,
          8.99,
          8.99,
          0,
          9.99,
          3.99,
          3.99,
          3.99,
          3.99,
          0,
          6.99,
          7.19,
          4.79,
          7.19,
          7.19,
          4.79,
          7.19,
          7.19,
          4.79,
          7.19,
          3.99,
          3.99,
          4.99,
          3.99,
          3.99,
          13.99,
          5.99,
          0,
          5.79,
          6.99,
          9.99,
          15.99,
          3.99,
          3.99,
          3.99,
          3.99,
          8.29,
          9.29,
          4.99,
          4.99,
          7.19,
          4.99,
          4.99,
          6.99,
          4.99,
          3.99,
          6.99,
          8.99,
          25.99,
          6.99,
          6.99,
          6.99,
          6.99,
          6.99,
          14.99,
          6.99,
          5.99,
          5.99,
          2.99,
          2.99,
          2.99,
          2.99,
          2.99,
          2.99,
          3.99,
          1.99,
          3.99,
          19.99,
          6.99,
          4.99,
          3.99,
          6.99,
          6.99,
          9.99,
          0,
          0,
          1.99,
          22.99,
          2.99,
          0,
          2.49,
          4.99,
          5.99,
          19.99,
          2.99,
          2.99,
          19.99,
          3.49,
          2.49,
          3.99,
          2.49,
          2.49,
          0,
          2.99,
          0,
          2.99,
          7.99,
          9.99,
          9.99,
          8.99,
          8.99,
          9.99,
          9.99,
          9.99,
          5.99,
          6.99,
          1.99,
          3.99,
          13.99,
          0,
          0,
          1.99,
          4.79,
          6.99,
          4.99,
          19.99,
          14.99,
          9.99,
          6.99,
          9.99,
          6.99,
          14.99,
          19.99,
          8.99,
          5.59,
          4.99,
          4.99,
          4.99,
          9.99,
          9.99,
          19.99,
          9.99,
          0,
          6.99,
          6.99,
          0,
          6.99,
          6.99,
          6.99,
          6.99,
          1.79,
          3.99,
          5.59,
          5.59,
          4.79,
          3.99,
          3.99,
          3.99,
          3.49,
          3.99,
          3.49,
          3.49,
          5.99,
          5.99,
          9.99,
          5.99,
          5.99,
          5.99,
          0,
          0,
          9.99,
          19.99,
          14.99,
          6.99,
          6.99,
          6.99,
          6.99,
          16.99,
          10.99,
          10.99,
          3.99,
          10.99,
          10.99,
          3.99,
          2.99,
          6.99,
          6.99,
          6.99,
          6.99,
          4.99,
          5.99,
          4.99,
          4.99,
          4.99,
          6.99,
          4.99,
          6.99,
          4.99,
          6.99,
          6.99,
          6.99,
          3.99,
          0,
          8.99,
          13.99,
          8.99,
          5.99,
          5.99,
          8.59,
          8.59,
          8.59,
          8.59,
          4.29,
          8.59,
          8.59,
          8.59,
          4.29,
          4.29,
          4.29,
          8.59,
          8.59,
          4.29,
          4.29,
          8.59,
          4.29,
          8.59,
          4.29,
          4.29,
          4.29,
          8.59,
          8.69,
          8.59,
          8.59,
          8.59,
          5.79,
          6.99,
          6.99,
          6.99,
          14.99,
          1.99,
          1.99,
          3.99,
          6.99,
          5.99,
          6.99,
          5.99,
          5.99,
          5.99,
          5.99,
          5.99,
          6.99,
          5.99,
          6.99,
          5.99,
          5.99,
          5.99,
          5.99,
          5.99,
          5.99,
          5.99,
          7.49,
          9.99,
          1.99,
          5.99,
          16.99,
          0.79,
          1.69,
          1.69,
          9.99,
          15.49,
          0,
          5.99,
          1.49,
          6.99,
          6.99,
          9.99,
          7.99,
          14.99,
          9.99,
          9.99,
          9.99,
          14.99,
          7.99,
          14.99,
          9.99,
          0,
          0,
          6.99,
          0,
          5.99,
          5.99,
          7.99,
          7.99,
          9.99,
          6.99,
          3.99,
          7.19,
          6.99,
          6.99,
          3.99,
          6.99,
          6.99,
          6.99,
          3.99,
          17.99,
          7.99,
          11.99,
          7.99,
          3.99,
          3.99,
          2.99,
          4.29,
          4.29,
          8.59,
          8.59,
          13.99,
          7.99,
          4.99,
          9.99,
          4.99,
          14.99,
          5.99,
          5.99,
          6.99,
          6.99,
          14.99,
          14.99,
          3.99,
          3.99,
          35.96,
          12.99,
          9.99,
          2.99,
          4.79,
          4.99,
          3.49,
          13.99,
          6.49,
          6.49,
          13.99,
          8.59,
          8.59,
          8.59,
          6.99,
          7.99,
          0,
          9.99,
          0,
          6.99,
          6.99,
          7.99,
          3.99,
          12.99,
          12.99,
          0,
          14.99,
          7.99,
          3.99,
          5.99,
          14.99,
          6.99,
          6.99,
          6.99,
          1.59,
          3.99,
          3.99,
          7.99,
          7.99,
          6.99,
          4.79,
          7.99,
          6.99,
          6.99,
          6.99,
          10.99,
          34.99,
          0,
          10.99,
          7.99,
          6.99,
          6.99,
          3.99,
          7.99,
          14.99,
          14.99,
          7.19,
          9.99,
          9.99,
          9.99,
          9.99,
          9.99,
          9.99,
          9.99,
          9.99,
          14.99,
          19.99,
          22.99,
          7.99,
          1.99,
          0,
          4.79,
          3.99,
          9.99,
          7.49,
          3.99,
          7.99,
          4.99,
          6.99,
          7.99,
          7.99,
          7.99,
          8.99,
          3.99,
          10.99,
          15.99,
          6.99,
          3.99,
          4.99,
          15.99,
          0.79,
          14.99,
          5.99,
          6.99,
          5.99,
          3.99,
          1.69,
          4.79,
          7.99,
          3.99,
          3.99,
          3.99,
          6.99,
          0.99,
          6.99,
          3.99,
          15.99,
          5.19,
          5.19,
          5.19,
          5.19,
          5.19,
          5.19,
          5.19,
          5.19,
          5.19,
          5.19,
          5.19,
          5.19,
          5.19,
          5.19,
          5.19,
          3.99,
          5.99,
          6.99,
          5.99,
          3.99,
          6.99,
          6.99,
          4.79,
          15.49,
          4.79,
          4.79,
          7.19,
          7.19,
          4.79,
          2.09,
          4.79,
          4.79,
          15.49,
          15.49,
          15.49,
          15.49,
          7.19,
          15.49,
          15.49,
          15.49,
          14.99,
          3.99,
          3.99,
          6.99,
          6.99,
          14.99,
          0,
          0,
          6.99,
          6.99,
          6.99,
          6.99,
          6.99,
          6.99,
          14.99,
          13.99,
          3.99,
          3.99,
          3.99,
          3.99,
          7.19,
          8.59,
          8.59,
          8.59,
          8.59,
          5.99,
          3.99,
          4.99,
          4.99,
          3.99,
          4.99,
          4.99,
          9.99,
          3.99,
          4.99,
          14.99,
          14.99,
          7.99,
          11.99,
          3.99,
          8.99,
          9.99,
          9.99,
          0,
          4.99,
          4.99,
          3.99,
          11.99,
          5.99,
          6.99,
          6.99,
          3.99,
          2.99,
          4.99,
          5.99,
          6.99,
          0.79,
          6.99,
          7.99,
          2.99,
          7.99,
          14.99,
          9.99,
          6.99,
          10.99,
          14.99,
          6.99,
          7.99,
          3.99,
          9.99,
          13.99,
          0,
          3.99,
          3.99,
          10.99,
          10.99,
          3.49,
          4.99,
          4.99,
          4.99,
          4.99,
          6.99,
          6.99,
          6.99,
          6.99,
          9.99,
          3.99,
          7.49,
          7.49,
          7.49,
          7.49,
          7.49,
          10.99,
          7.49,
          6.99,
          4.99,
          4.99,
          4.99,
          4.99,
          4.99,
          4.99,
          4.99,
          2.99,
          1.49,
          1.99,
          14.99,
          7.99,
          14.99,
          6.99,
          6.99,
          6.99,
          6.99,
          6.99,
          6.99,
          3.99,
          3.99,
          3.99,
          6.99,
          6.99,
          6.99,
          6.99,
          6.99,
          0.79,
          5.59,
          7.99,
          7.99,
          7.99,
          6.99,
          6.99,
          6.99,
          14.99,
          6.99,
          3.99,
          3.99,
          4.99,
          0,
          2.99,
          0,
          9.99,
          9.99,
          4.99,
          4.99,
          9.99,
          8.99,
          8.99,
          8.99,
          8.99,
          8.99,
          4.49,
          4.49,
          8.99,
          8.99,
          4.49,
          8.99,
          17.99,
          1.79,
          3.99,
          8.99,
          6.99,
          6.99,
          7.99,
          3.99,
          7.99,
          7.99,
          7.99,
          3.99,
          7.99,
          6.99,
          3.99,
          2.09,
          7.99,
          3.99,
          3.99,
          3.49,
          7.49,
          11.99,
          7.99,
          10.99,
          29.99,
          3.99,
          0,
          1.99,
          10.99,
          14.99,
          6.99,
          6.99,
          12.99,
          6.99,
          10.99,
          6.99,
          3.49,
          7.99,
          6.99,
          10.99,
          5.19,
          5.19,
          4.99,
          1.99,
          14.99,
          29.99,
          7.99,
          7.99,
          7.99,
          7.99,
          7.99,
          1.59,
          1.59,
          1.59,
          14.99,
          7.99,
          14.99,
          7.99,
          4.99,
          5.99,
          7.99,
          5.19,
          2.99,
          19.98,
          9.99,
          3.99,
          8.99,
          4.99,
          7.19,
          3.99,
          6.99,
          0.99,
          6.99,
          6.99,
          1.59,
          15.99,
          6.49,
          12.99,
          2.99,
          14.99,
          12.99,
          22.99,
          14.99,
          3.99,
          0,
          4.99,
          3.99,
          2.79,
          2.79,
          2.79,
          3.99,
          2.79,
          3.99,
          3.99,
          2.79,
          3.99,
          6.99,
          3.99,
          6.99,
          5.59,
          5.59,
          9.99,
          9.99,
          6.99,
          3.99,
          5.59,
          6.99,
          2.89,
          34.95,
          34.95,
          6.99,
          7.99,
          2.09,
          9.99,
          34.95,
          10.99,
          10.99,
          34.95,
          34.95,
          10.99,
          6.99,
          6.99,
          6.99,
          0,
          0,
          9.99,
          9.99,
          14.99,
          14.99,
          7.99,
          19.99,
          14.99,
          24.99,
          19.99,
          6.99,
          25.99,
          8.59,
          12.49,
          16.99,
          14.99,
          7.99,
          14.99,
          6.99,
          4.99,
          7.99,
          3.99,
          0,
          19.99,
          6.99,
          3.99,
          3.99,
          3.99,
          5.99,
          19.99,
          19.99,
          6.99,
          4.99,
          6.99,
          6.99,
          6.99,
          6.99,
          4.99,
          4.99,
          6.99,
          6.99,
          6.99,
          4.99,
          6.99,
          6.99,
          6.99,
          6.99,
          14.99,
          14.99,
          14.99,
          19.99,
          6.99,
          1.99,
          1.99,
          14.99,
          9.99,
          4.99,
          6.99,
          6.99,
          12.49,
          3.99,
          14.99,
          2.99,
          14.99,
          6.99,
          6.99,
          3.49,
          7.99,
          6.99,
          6.99,
          6.99,
          7.99,
          6.99,
          6.99,
          0,
          6.99,
          4.99,
          4.99,
          4.99,
          3.99,
          6.99,
          6.99,
          3.99,
          8.59,
          4.99,
          2.99,
          3.99,
          6.99,
          7.19,
          3.99,
          6.99,
          3.99,
          6.99,
          3.99,
          6.99,
          6.99,
          3.99,
          3.99,
          11.99,
          5.59,
          4.99,
          7.19,
          2.09,
          3.99,
          7.19,
          6.99,
          4.49,
          13.99,
          0,
          4.49,
          8.99,
          13.99,
          3.99,
          11.99,
          19.99,
          5.99,
          3.49,
          9.99,
          14.99,
          29.99,
          4.99,
          19.99,
          6.99,
          0.79,
          0.79,
          0.79,
          5.79,
          14.99,
          3.99,
          12.99,
          6.49,
          0.79,
          10.99,
          6.99,
          4.99,
          5.59,
          5.59,
          7.19,
          14.99,
          5.59,
          5.59,
          5.59,
          0,
          6.99,
          0.79,
          9.99,
          0,
          14.99,
          8.99,
          7.99,
          14.99,
          7.99,
          6.99,
          4.25,
          11.99,
          6.99,
          3.49,
          6.99,
          3.99,
          3.99,
          3.99,
          6.99,
          7.19,
          2.99,
          6.99,
          7.99,
          10.99,
          7.19,
          6.99,
          3.99,
          6.99,
          6.99,
          3.99,
          0.79,
          2.79,
          2.79,
          2.79,
          3.99,
          1.49,
          7.19,
          6.99,
          6.99,
          2.09,
          11.39,
          2.89,
          6.99,
          2.79,
          6.99,
          6.99,
          14.99,
          6.99,
          5.99,
          8.99,
          0,
          4.79,
          3.99,
          0.79,
          11.39,
          7.99,
          6.99,
          6.99,
          6.99,
          6.99,
          6.99,
          6.99,
          6.99,
          4.39,
          18.99,
          4.99,
          9.99,
          1.99,
          4.79,
          3.49,
          3.99,
          10.99,
          6.99,
          9.99,
          3.99,
          3.99,
          6.99,
          0,
          0,
          95.99,
          7.99,
          6.99,
          19.99,
          7.99,
          7.99,
          7.19,
          7.99,
          2.99,
          2.99,
          4.99,
          1.59,
          0.79,
          7.99,
          4.79,
          1.59,
          6.99,
          29.99,
          6.99,
          0.79,
          6.99,
          11.39,
          6.99,
          0,
          0,
          29.99,
          3.99,
          10.59,
          6.99,
          0,
          14.99,
          9.99,
          6.99,
          11.39,
          19.99,
          6.99,
          3.99,
          0,
          14.99,
          6.99,
          0,
          3.99,
          3.99,
          3.99,
          19.99,
          4.99,
          6.99,
          3.99,
          3.99,
          6.99,
          6.99,
          10.99,
          3.99,
          0,
          0,
          6.99,
          6.99,
          10.99,
          3.99,
          3.99,
          3.99,
          19.99,
          18.99,
          6.99,
          6.99,
          3.99,
          5.19,
          4.99,
          22.99,
          10.99,
          6.99,
          0,
          3.99,
          14.99,
          7.99,
          5.59,
          5.59,
          9.99,
          14.99,
          14.99,
          9.99,
          14.99,
          10.99,
          0,
          0,
          0,
          0,
          0,
          0,
          0,
          0,
          15.49,
          10.99,
          3.99,
          6.99,
          6.99,
          3.99,
          11.99,
          14.99,
          12.49,
          14.99,
          14.99,
          7.99,
          4.99,
          3.99,
          5.19,
          10.99,
          7.19,
          7.19,
          6.19,
          3.99,
          39.99,
          14.99,
          14.99,
          7.19,
          0,
          6.99,
          12.99,
          3.99,
          18.99,
          5.99,
          10.99,
          9.99,
          29.99,
          26.99,
          4.79,
          6.99,
          4.99,
          14.99,
          14.99,
          0.79,
          6.99,
          6.99,
          0,
          6.99,
          9.99,
          6.99,
          6.99,
          11.39,
          6.99,
          7.99,
          10.99,
          22.99,
          5.59,
          30.99,
          7.99,
          0.79,
          8.99,
          6.99,
          6.99,
          6.99,
          6.99,
          7.99,
          25.99,
          9.99,
          14.99,
          6.99,
          4.79,
          9.99,
          14.99,
          3.99,
          0,
          11.99,
          9.99,
          6.99,
          6.99,
          4.99,
          6.99,
          5.59,
          14.99,
          0,
          3.99,
          3.99,
          6,
          0,
          1.59,
          6.99,
          7.19,
          6.99,
          10.99,
          6.99,
          0,
          0,
          6.99,
          2.99,
          7.99,
          7.99,
          6.99,
          10.99,
          10.99,
          6.99,
          0,
          2.79,
          9.99,
          12.99,
          1.99,
          4.79,
          4.79,
          1.99,
          4.99,
          8.59,
          3.99,
          3.99,
          6.99,
          1.59,
          7.99,
          3.99,
          2.79,
          6.19,
          7.99,
          7.99,
          6.99,
          0,
          14.99,
          6.99,
          11.99,
          14.99,
          10.99,
          7.19,
          10.99,
          6.99,
          6.99,
          6.99,
          15.99,
          6.99,
          6.99,
          10.99,
          10.99,
          0,
          10.99,
          3.99,
          22.99,
          22.99,
          39.99,
          6.99,
          6.99,
          0,
          3.99,
          7.19,
          9.99,
          3.99,
          14.99,
          6.99,
          6.99,
          39.99,
          14.99,
          3.99,
          11.99,
          10.99,
          6.99,
          11.39,
          1.59,
          6.99,
          2.89,
          14.99,
          11.39,
          8.59,
          6.99,
          29.99,
          7.19,
          9.99,
          6.99,
          6.99,
          6.99,
          10.99,
          4.99,
          9.99,
          3.99,
          0,
          3.99,
          4.99,
          4.99,
          4.99,
          3.99,
          11.99,
          6.99,
          14.99,
          5.59,
          6.99,
          6.99,
          0,
          4.99,
          0,
          0,
          0,
          12.49,
          6.99,
          4.79,
          9.99,
          0,
          1.69,
          14.99,
          10.99,
          0,
          5.99,
          0,
          25.99,
          6.99,
          6.99,
          15.49,
          6.99,
          4.79,
          12.49,
          6.99,
          5.59,
          0,
          29.99,
          4.99,
          5.59,
          5.59,
          5.59,
          15.49,
          3.99,
          11.99,
          9.99,
          2.99,
          6.99,
          17.99,
          7.19,
          29.99,
          6.49,
          0,
          17.99,
          0,
          29.99,
          5.59,
          3.99,
          10.99,
          6.99,
          6.99,
          1.99,
          10.99,
          6.99,
          3.99,
          4.99,
          0,
          0,
          4.99,
          6.99,
          3.99,
          10.99,
          0,
          7.99,
          15.49,
          3.99,
          4.99,
          11.99,
          10.99,
          6.99,
          6.99,
          10.99,
          10.99,
          2.89,
          6.99,
          7.99,
          0,
          6.99,
          14.99,
          3.99,
          14.99,
          10.99,
          14.99,
          0,
          10.99,
          6.99,
          7.49,
          6.99,
          4.99,
          14.99,
          9.99,
          6.99,
          14.99,
          3.99,
          6.99,
          7.19,
          7.19,
          0,
          18.99,
          6.99,
          0,
          4.79,
          14.99,
          0,
          14.99,
          15.99,
          5.59,
          19.99,
          5.99,
          16.99,
          29.99,
          16.99,
          11.39,
          15.49,
          23.99,
          2.09,
          22.99,
          52.99,
          15.99,
          5.99,
          6.99,
          2.99,
          3.99,
          9.99,
          19.99,
          33.99,
          10.99,
          6.99,
          14.99,
          10.99,
          1.99,
          25.99,
          9.99,
          17.99,
          9.99,
          5.59,
          1.99,
          10.99,
          10.99,
          23.99,
          0,
          0,
          12.39,
          6.99,
          14.99,
          6.99,
          14.99,
          1.99,
          6.99,
          24.99,
          10.99,
          3.99,
          10.99,
          3.99,
          3.99,
          11.99,
          6.99,
          6.99,
          11.99,
          0,
          7.49,
          0,
          9.99,
          18.99,
          0,
          6.99,
          0,
          4.99,
          8.49,
          11.99,
          10.99,
          0,
          6.99,
          22.99,
          6.99,
          4.99,
          5.99,
          14.99,
          4.99,
          4.99,
          4.99,
          4.99,
          4.99,
          4.99,
          10.99,
          6.99,
          10.99,
          10.99,
          4.99,
          4.99,
          6.99,
          14.99,
          11.99,
          0,
          10.99,
          0,
          6.99,
          3.99,
          10.99,
          19.99,
          11.99,
          19.99,
          6.99,
          7.99,
          15.49,
          22.99,
          23.79,
          10.99,
          6.99,
          10.99,
          10.99,
          10.99,
          14.99,
          6.99,
          0,
          14.99,
          6.99,
          5.59,
          3.99,
          9.99,
          14.99,
          7.99,
          7.19,
          18.99,
          6.99,
          6.99,
          0,
          0,
          19.49,
          14.99,
          22.99,
          0,
          10.99,
          38.99,
          5.59,
          16.99,
          7.19,
          11.99,
          1.99,
          14.99,
          5.99,
          6.99,
          9.99,
          16.99,
          9.99,
          14.99,
          1.99,
          11.39,
          6.99,
          22.99,
          10.99,
          19.49,
          0,
          0,
          10.99,
          10.99,
          3.99,
          16.99,
          6.99,
          4.49,
          6.99,
          6.99,
          7.49,
          11.99,
          18.99,
          10.99,
          17.99,
          14.99,
          3.99,
          7.99,
          3.99,
          14.99,
          19.99,
          10.99,
          11.99,
          1.49,
          11.39,
          24.99,
          8.59,
          15.99,
          7.99,
          11.99,
          29.99,
          6.99,
          6.99,
          11.39,
          3.99,
          12.49,
          19.99,
          6.99,
          4.99,
          1.59,
          23.79,
          6.99,
          0,
          6.99,
          19.49,
          6.99,
          3.99,
          18.99,
          22.99,
          9.99,
          19.99,
          15.99,
          4.99,
          3.99,
          26.99,
          1.99,
          0,
          6.99,
          6.99,
          8.99,
          7.19,
          23.39,
          10.99,
          14.99,
          0,
          6.99,
          10.99,
          3.99,
          3.99,
          11.99,
          3.99,
          3.99,
          0,
          6.99,
          7.19,
          0,
          19.99,
          7.19,
          22.99,
          16.99,
          6.99,
          3.99,
          3.99,
          10.99,
          6.99,
          18.99,
          6.99,
          8.99,
          11.99,
          0,
          22.99,
          26.99,
          1.99,
          6.95,
          0,
          29.99,
          7.99,
          14.99,
          7.99,
          3.99,
          14.99,
          11.49,
          6.99,
          34.99,
          6.99,
          7.19,
          0,
          18.99,
          17.99,
          14.99,
          10.99,
          1.69,
          11.99,
          3.99,
          6.99,
          18.99,
          7.19,
          10.99,
          15.49,
          4.99,
          16.99,
          18.74,
          12.99,
          6.99,
          22.99,
          6.99,
          10.99,
          0,
          15.49,
          10.99,
          6.99,
          10.99,
          5.59,
          6.99,
          20.99,
          10.99,
          3.99,
          6.99,
          14.99,
          0,
          6.99,
          6.99,
          11.99,
          10.99,
          24.99,
          19.99,
          14.99,
          24.99,
          6.99,
          7.19,
          29.99,
          3.99,
          6.99,
          14.99,
          0,
          6.99,
          6.99,
          14.99,
          6.99,
          6.99,
          5.79,
          23.79,
          6.99,
          24.99,
          7.19,
          19.99,
          5.79,
          7.19,
          6.99,
          25.99,
          10.99,
          6.99,
          10.99,
          6.99,
          16.99,
          16.99,
          9.99,
          18.99,
          6.99,
          18.99,
          24.99,
          9.29,
          14.99,
          0,
          15.49,
          10.99,
          3.99,
          14.99,
          15.49,
          14.99,
          14.99,
          6.99,
          3.99,
          10.99,
          26.99,
          10.99,
          4.99,
          16.99,
          4.99,
          25.99,
          6.99,
          18.99,
          14.99,
          29.99,
          14.99,
          20.99,
          0,
          3.99,
          3.99,
          26.99,
          15.49,
          9.99,
          12.99,
          19.99,
          0,
          6.99,
          6.99,
          3.99,
          14.99,
          10.99,
          9.99,
          60.99,
          15.49,
          5.49,
          6.49,
          10.99,
          0,
          5.59,
          17.99,
          6.99,
          14.99,
          15.49,
          7.49,
          4.79,
          0,
          0,
          6.99,
          18.99,
          16.99,
          14.99,
          9.99,
          6.99,
          14.99,
          6.99,
          14.99,
          11.99,
          6.99,
          8.99,
          4.99,
          6.19,
          14.99,
          6.99,
          0,
          5.59,
          6.99,
          9.99,
          6.99,
          22.99,
          3.99,
          7.19,
          5.19,
          6.99,
          10.99,
          5.59,
          6.99,
          6.99,
          8.29,
          19.99,
          6.99,
          6.99,
          10.99,
          69.99,
          4.99,
          9.99,
          10.99,
          4.79,
          7.19,
          4.99,
          13.99,
          6.99,
          14.99,
          10.99,
          11.99,
          0,
          14.99,
          11.99,
          2.79,
          3.99,
          6.99,
          11.39,
          8.99,
          14.99,
          14.99,
          10.99,
          2.79,
          1.69,
          6.99,
          12.49,
          6.99,
          1.99,
          26.99,
          3.99,
          14.99,
          14.99,
          10.99,
          6.99,
          6.99,
          10.99,
          5.99,
          10.99,
          11.99,
          7.19,
          6.99,
          10.99,
          0,
          6.99,
          2.09,
          9.99,
          9.99,
          6.99,
          6.99,
          0,
          13.49,
          5.59,
          6.99,
          19.99,
          10.99,
          6.99,
          18.99,
          10.99,
          13.49,
          24.99,
          23.79,
          11.39,
          12.99,
          15.49,
          6.99,
          7.19,
          10.99,
          22.99,
          9.99,
          3.99,
          6.99,
          11.99,
          0,
          10.99,
          10.99,
          6.99,
          3.99,
          18.99,
          3.99,
          6.99,
          3.99,
          17.99,
          3.99,
          78.99,
          5.99,
          11.99,
          6.99,
          14.99,
          6.99,
          0,
          6.99,
          3.99,
          10.99,
          4.99,
          7.19
         ],
         "y0": " ",
         "yaxis": "y"
        }
       ],
       "layout": {
        "boxmode": "group",
        "legend": {
         "tracegroupgap": 0
        },
        "margin": {
         "t": 60
        },
        "template": {
         "data": {
          "bar": [
           {
            "error_x": {
             "color": "#2a3f5f"
            },
            "error_y": {
             "color": "#2a3f5f"
            },
            "marker": {
             "line": {
              "color": "#E5ECF6",
              "width": 0.5
             },
             "pattern": {
              "fillmode": "overlay",
              "size": 10,
              "solidity": 0.2
             }
            },
            "type": "bar"
           }
          ],
          "barpolar": [
           {
            "marker": {
             "line": {
              "color": "#E5ECF6",
              "width": 0.5
             },
             "pattern": {
              "fillmode": "overlay",
              "size": 10,
              "solidity": 0.2
             }
            },
            "type": "barpolar"
           }
          ],
          "carpet": [
           {
            "aaxis": {
             "endlinecolor": "#2a3f5f",
             "gridcolor": "white",
             "linecolor": "white",
             "minorgridcolor": "white",
             "startlinecolor": "#2a3f5f"
            },
            "baxis": {
             "endlinecolor": "#2a3f5f",
             "gridcolor": "white",
             "linecolor": "white",
             "minorgridcolor": "white",
             "startlinecolor": "#2a3f5f"
            },
            "type": "carpet"
           }
          ],
          "choropleth": [
           {
            "colorbar": {
             "outlinewidth": 0,
             "ticks": ""
            },
            "type": "choropleth"
           }
          ],
          "contour": [
           {
            "colorbar": {
             "outlinewidth": 0,
             "ticks": ""
            },
            "colorscale": [
             [
              0,
              "#0d0887"
             ],
             [
              0.1111111111111111,
              "#46039f"
             ],
             [
              0.2222222222222222,
              "#7201a8"
             ],
             [
              0.3333333333333333,
              "#9c179e"
             ],
             [
              0.4444444444444444,
              "#bd3786"
             ],
             [
              0.5555555555555556,
              "#d8576b"
             ],
             [
              0.6666666666666666,
              "#ed7953"
             ],
             [
              0.7777777777777778,
              "#fb9f3a"
             ],
             [
              0.8888888888888888,
              "#fdca26"
             ],
             [
              1,
              "#f0f921"
             ]
            ],
            "type": "contour"
           }
          ],
          "contourcarpet": [
           {
            "colorbar": {
             "outlinewidth": 0,
             "ticks": ""
            },
            "type": "contourcarpet"
           }
          ],
          "heatmap": [
           {
            "colorbar": {
             "outlinewidth": 0,
             "ticks": ""
            },
            "colorscale": [
             [
              0,
              "#0d0887"
             ],
             [
              0.1111111111111111,
              "#46039f"
             ],
             [
              0.2222222222222222,
              "#7201a8"
             ],
             [
              0.3333333333333333,
              "#9c179e"
             ],
             [
              0.4444444444444444,
              "#bd3786"
             ],
             [
              0.5555555555555556,
              "#d8576b"
             ],
             [
              0.6666666666666666,
              "#ed7953"
             ],
             [
              0.7777777777777778,
              "#fb9f3a"
             ],
             [
              0.8888888888888888,
              "#fdca26"
             ],
             [
              1,
              "#f0f921"
             ]
            ],
            "type": "heatmap"
           }
          ],
          "heatmapgl": [
           {
            "colorbar": {
             "outlinewidth": 0,
             "ticks": ""
            },
            "colorscale": [
             [
              0,
              "#0d0887"
             ],
             [
              0.1111111111111111,
              "#46039f"
             ],
             [
              0.2222222222222222,
              "#7201a8"
             ],
             [
              0.3333333333333333,
              "#9c179e"
             ],
             [
              0.4444444444444444,
              "#bd3786"
             ],
             [
              0.5555555555555556,
              "#d8576b"
             ],
             [
              0.6666666666666666,
              "#ed7953"
             ],
             [
              0.7777777777777778,
              "#fb9f3a"
             ],
             [
              0.8888888888888888,
              "#fdca26"
             ],
             [
              1,
              "#f0f921"
             ]
            ],
            "type": "heatmapgl"
           }
          ],
          "histogram": [
           {
            "marker": {
             "pattern": {
              "fillmode": "overlay",
              "size": 10,
              "solidity": 0.2
             }
            },
            "type": "histogram"
           }
          ],
          "histogram2d": [
           {
            "colorbar": {
             "outlinewidth": 0,
             "ticks": ""
            },
            "colorscale": [
             [
              0,
              "#0d0887"
             ],
             [
              0.1111111111111111,
              "#46039f"
             ],
             [
              0.2222222222222222,
              "#7201a8"
             ],
             [
              0.3333333333333333,
              "#9c179e"
             ],
             [
              0.4444444444444444,
              "#bd3786"
             ],
             [
              0.5555555555555556,
              "#d8576b"
             ],
             [
              0.6666666666666666,
              "#ed7953"
             ],
             [
              0.7777777777777778,
              "#fb9f3a"
             ],
             [
              0.8888888888888888,
              "#fdca26"
             ],
             [
              1,
              "#f0f921"
             ]
            ],
            "type": "histogram2d"
           }
          ],
          "histogram2dcontour": [
           {
            "colorbar": {
             "outlinewidth": 0,
             "ticks": ""
            },
            "colorscale": [
             [
              0,
              "#0d0887"
             ],
             [
              0.1111111111111111,
              "#46039f"
             ],
             [
              0.2222222222222222,
              "#7201a8"
             ],
             [
              0.3333333333333333,
              "#9c179e"
             ],
             [
              0.4444444444444444,
              "#bd3786"
             ],
             [
              0.5555555555555556,
              "#d8576b"
             ],
             [
              0.6666666666666666,
              "#ed7953"
             ],
             [
              0.7777777777777778,
              "#fb9f3a"
             ],
             [
              0.8888888888888888,
              "#fdca26"
             ],
             [
              1,
              "#f0f921"
             ]
            ],
            "type": "histogram2dcontour"
           }
          ],
          "mesh3d": [
           {
            "colorbar": {
             "outlinewidth": 0,
             "ticks": ""
            },
            "type": "mesh3d"
           }
          ],
          "parcoords": [
           {
            "line": {
             "colorbar": {
              "outlinewidth": 0,
              "ticks": ""
             }
            },
            "type": "parcoords"
           }
          ],
          "pie": [
           {
            "automargin": true,
            "type": "pie"
           }
          ],
          "scatter": [
           {
            "marker": {
             "colorbar": {
              "outlinewidth": 0,
              "ticks": ""
             }
            },
            "type": "scatter"
           }
          ],
          "scatter3d": [
           {
            "line": {
             "colorbar": {
              "outlinewidth": 0,
              "ticks": ""
             }
            },
            "marker": {
             "colorbar": {
              "outlinewidth": 0,
              "ticks": ""
             }
            },
            "type": "scatter3d"
           }
          ],
          "scattercarpet": [
           {
            "marker": {
             "colorbar": {
              "outlinewidth": 0,
              "ticks": ""
             }
            },
            "type": "scattercarpet"
           }
          ],
          "scattergeo": [
           {
            "marker": {
             "colorbar": {
              "outlinewidth": 0,
              "ticks": ""
             }
            },
            "type": "scattergeo"
           }
          ],
          "scattergl": [
           {
            "marker": {
             "colorbar": {
              "outlinewidth": 0,
              "ticks": ""
             }
            },
            "type": "scattergl"
           }
          ],
          "scattermapbox": [
           {
            "marker": {
             "colorbar": {
              "outlinewidth": 0,
              "ticks": ""
             }
            },
            "type": "scattermapbox"
           }
          ],
          "scatterpolar": [
           {
            "marker": {
             "colorbar": {
              "outlinewidth": 0,
              "ticks": ""
             }
            },
            "type": "scatterpolar"
           }
          ],
          "scatterpolargl": [
           {
            "marker": {
             "colorbar": {
              "outlinewidth": 0,
              "ticks": ""
             }
            },
            "type": "scatterpolargl"
           }
          ],
          "scatterternary": [
           {
            "marker": {
             "colorbar": {
              "outlinewidth": 0,
              "ticks": ""
             }
            },
            "type": "scatterternary"
           }
          ],
          "surface": [
           {
            "colorbar": {
             "outlinewidth": 0,
             "ticks": ""
            },
            "colorscale": [
             [
              0,
              "#0d0887"
             ],
             [
              0.1111111111111111,
              "#46039f"
             ],
             [
              0.2222222222222222,
              "#7201a8"
             ],
             [
              0.3333333333333333,
              "#9c179e"
             ],
             [
              0.4444444444444444,
              "#bd3786"
             ],
             [
              0.5555555555555556,
              "#d8576b"
             ],
             [
              0.6666666666666666,
              "#ed7953"
             ],
             [
              0.7777777777777778,
              "#fb9f3a"
             ],
             [
              0.8888888888888888,
              "#fdca26"
             ],
             [
              1,
              "#f0f921"
             ]
            ],
            "type": "surface"
           }
          ],
          "table": [
           {
            "cells": {
             "fill": {
              "color": "#EBF0F8"
             },
             "line": {
              "color": "white"
             }
            },
            "header": {
             "fill": {
              "color": "#C8D4E3"
             },
             "line": {
              "color": "white"
             }
            },
            "type": "table"
           }
          ]
         },
         "layout": {
          "annotationdefaults": {
           "arrowcolor": "#2a3f5f",
           "arrowhead": 0,
           "arrowwidth": 1
          },
          "autotypenumbers": "strict",
          "coloraxis": {
           "colorbar": {
            "outlinewidth": 0,
            "ticks": ""
           }
          },
          "colorscale": {
           "diverging": [
            [
             0,
             "#8e0152"
            ],
            [
             0.1,
             "#c51b7d"
            ],
            [
             0.2,
             "#de77ae"
            ],
            [
             0.3,
             "#f1b6da"
            ],
            [
             0.4,
             "#fde0ef"
            ],
            [
             0.5,
             "#f7f7f7"
            ],
            [
             0.6,
             "#e6f5d0"
            ],
            [
             0.7,
             "#b8e186"
            ],
            [
             0.8,
             "#7fbc41"
            ],
            [
             0.9,
             "#4d9221"
            ],
            [
             1,
             "#276419"
            ]
           ],
           "sequential": [
            [
             0,
             "#0d0887"
            ],
            [
             0.1111111111111111,
             "#46039f"
            ],
            [
             0.2222222222222222,
             "#7201a8"
            ],
            [
             0.3333333333333333,
             "#9c179e"
            ],
            [
             0.4444444444444444,
             "#bd3786"
            ],
            [
             0.5555555555555556,
             "#d8576b"
            ],
            [
             0.6666666666666666,
             "#ed7953"
            ],
            [
             0.7777777777777778,
             "#fb9f3a"
            ],
            [
             0.8888888888888888,
             "#fdca26"
            ],
            [
             1,
             "#f0f921"
            ]
           ],
           "sequentialminus": [
            [
             0,
             "#0d0887"
            ],
            [
             0.1111111111111111,
             "#46039f"
            ],
            [
             0.2222222222222222,
             "#7201a8"
            ],
            [
             0.3333333333333333,
             "#9c179e"
            ],
            [
             0.4444444444444444,
             "#bd3786"
            ],
            [
             0.5555555555555556,
             "#d8576b"
            ],
            [
             0.6666666666666666,
             "#ed7953"
            ],
            [
             0.7777777777777778,
             "#fb9f3a"
            ],
            [
             0.8888888888888888,
             "#fdca26"
            ],
            [
             1,
             "#f0f921"
            ]
           ]
          },
          "colorway": [
           "#636efa",
           "#EF553B",
           "#00cc96",
           "#ab63fa",
           "#FFA15A",
           "#19d3f3",
           "#FF6692",
           "#B6E880",
           "#FF97FF",
           "#FECB52"
          ],
          "font": {
           "color": "#2a3f5f"
          },
          "geo": {
           "bgcolor": "white",
           "lakecolor": "white",
           "landcolor": "#E5ECF6",
           "showlakes": true,
           "showland": true,
           "subunitcolor": "white"
          },
          "hoverlabel": {
           "align": "left"
          },
          "hovermode": "closest",
          "mapbox": {
           "style": "light"
          },
          "paper_bgcolor": "white",
          "plot_bgcolor": "#E5ECF6",
          "polar": {
           "angularaxis": {
            "gridcolor": "white",
            "linecolor": "white",
            "ticks": ""
           },
           "bgcolor": "#E5ECF6",
           "radialaxis": {
            "gridcolor": "white",
            "linecolor": "white",
            "ticks": ""
           }
          },
          "scene": {
           "xaxis": {
            "backgroundcolor": "#E5ECF6",
            "gridcolor": "white",
            "gridwidth": 2,
            "linecolor": "white",
            "showbackground": true,
            "ticks": "",
            "zerolinecolor": "white"
           },
           "yaxis": {
            "backgroundcolor": "#E5ECF6",
            "gridcolor": "white",
            "gridwidth": 2,
            "linecolor": "white",
            "showbackground": true,
            "ticks": "",
            "zerolinecolor": "white"
           },
           "zaxis": {
            "backgroundcolor": "#E5ECF6",
            "gridcolor": "white",
            "gridwidth": 2,
            "linecolor": "white",
            "showbackground": true,
            "ticks": "",
            "zerolinecolor": "white"
           }
          },
          "shapedefaults": {
           "line": {
            "color": "#2a3f5f"
           }
          },
          "ternary": {
           "aaxis": {
            "gridcolor": "white",
            "linecolor": "white",
            "ticks": ""
           },
           "baxis": {
            "gridcolor": "white",
            "linecolor": "white",
            "ticks": ""
           },
           "bgcolor": "#E5ECF6",
           "caxis": {
            "gridcolor": "white",
            "linecolor": "white",
            "ticks": ""
           }
          },
          "title": {
           "x": 0.05
          },
          "xaxis": {
           "automargin": true,
           "gridcolor": "white",
           "linecolor": "white",
           "ticks": "",
           "title": {
            "standoff": 15
           },
           "zerolinecolor": "white",
           "zerolinewidth": 2
          },
          "yaxis": {
           "automargin": true,
           "gridcolor": "white",
           "linecolor": "white",
           "ticks": "",
           "title": {
            "standoff": 15
           },
           "zerolinecolor": "white",
           "zerolinewidth": 2
          }
         }
        },
        "xaxis": {
         "anchor": "y",
         "domain": [
          0,
          1
         ]
        },
        "yaxis": {
         "anchor": "x",
         "domain": [
          0,
          1
         ],
         "title": {
          "text": "price"
         }
        }
       }
      }
     },
     "metadata": {},
     "output_type": "display_data"
    }
   ],
   "source": [
    "\n",
    "fig = px.box(data, y=\"price\")\n",
    "fig.show()"
   ]
  },
  {
   "cell_type": "code",
   "execution_count": 18,
   "metadata": {},
   "outputs": [
    {
     "data": {
      "application/vnd.plotly.v1+json": {
       "config": {
        "plotlyServerURL": "https://plot.ly"
       },
       "data": [
        {
         "alignmentgroup": "True",
         "bingroup": "x",
         "hovertemplate": "negative_ratings=%{x}<br>count=%{y}<extra></extra>",
         "legendgroup": "",
         "marker": {
          "color": "#636efa",
          "pattern": {
           "shape": ""
          }
         },
         "name": "",
         "offsetgroup": "",
         "orientation": "v",
         "showlegend": false,
         "type": "histogram",
         "x": [
          3339,
          633,
          398,
          267,
          288,
          684,
          1100,
          1439,
          420,
          2419,
          3497,
          1053,
          1210,
          787,
          1020,
          473,
          517,
          1080,
          696,
          34036,
          948,
          8418,
          142079,
          1891,
          941,
          402313,
          17,
          223,
          2649,
          61,
          158,
          152,
          344,
          75,
          44,
          26,
          108,
          152,
          102,
          85,
          106,
          1111,
          238,
          1055,
          316,
          66,
          171,
          87,
          257,
          82,
          182,
          136,
          107,
          12,
          33,
          31,
          26,
          20,
          29,
          792,
          204,
          248,
          46,
          523,
          362,
          87,
          117,
          236,
          97,
          33,
          9,
          77,
          50,
          113,
          272,
          48,
          18,
          4032,
          17,
          31,
          14,
          343,
          39,
          198,
          36,
          69,
          53,
          94,
          172,
          137,
          37,
          28,
          66,
          58,
          2,
          3,
          8,
          5,
          7,
          24,
          18,
          5,
          3,
          454,
          57,
          3,
          28,
          377,
          79,
          95,
          219,
          71,
          110,
          103,
          456,
          129,
          405,
          193,
          49,
          65,
          20,
          16433,
          5,
          43,
          2,
          14,
          36,
          41,
          17,
          570,
          60,
          38,
          320,
          206,
          133,
          605,
          221,
          562,
          131,
          30,
          46,
          143,
          22,
          66,
          138,
          17,
          1498,
          379,
          31,
          330,
          219,
          55,
          2425,
          38,
          18,
          227,
          164,
          33,
          186,
          107,
          100,
          89,
          102,
          226,
          15,
          90,
          178,
          1052,
          213,
          71,
          238,
          265,
          260,
          391,
          113,
          846,
          450,
          347,
          433,
          210,
          243,
          61,
          15,
          279,
          55,
          90,
          65,
          54,
          4,
          981,
          2051,
          194,
          570,
          153,
          82,
          32,
          53,
          54,
          136,
          138,
          257,
          50,
          270,
          821,
          389,
          724,
          103,
          594,
          542,
          3231,
          71,
          33,
          77,
          25,
          62,
          2832,
          348,
          16,
          66,
          3846,
          150,
          28,
          5565,
          14,
          36,
          276,
          15,
          13,
          376,
          39,
          69,
          51,
          2882,
          76,
          52,
          162,
          174,
          286,
          229,
          2881,
          94,
          54,
          38,
          145,
          56,
          823,
          2391,
          149,
          13,
          24,
          24,
          1483,
          32,
          42,
          16,
          159,
          28,
          904,
          2826,
          1101,
          63,
          10,
          12,
          10,
          252,
          50,
          1719,
          1186,
          1244,
          43,
          45,
          130,
          49,
          54,
          94,
          239,
          142,
          310,
          9,
          56,
          129,
          130,
          161,
          148,
          276,
          61,
          44,
          301,
          750,
          819,
          3243,
          433,
          435,
          172,
          30,
          17,
          1764,
          18926,
          2345,
          14,
          319,
          59,
          27,
          394,
          44,
          41,
          69,
          17,
          8,
          76,
          95,
          67,
          80,
          89,
          111,
          9,
          6,
          26,
          24,
          27,
          72,
          6,
          75,
          178,
          182,
          306,
          580,
          4,
          723,
          100,
          278,
          66,
          65,
          132,
          101,
          609,
          109,
          106,
          147,
          140,
          454,
          122,
          2,
          79,
          80,
          1162,
          456,
          186,
          38,
          183,
          100,
          128,
          113,
          24,
          40,
          45,
          185,
          66,
          21,
          98,
          21,
          135,
          103,
          252,
          755,
          442,
          48,
          155,
          139,
          1,
          29,
          3,
          14,
          14,
          35,
          14,
          29,
          23,
          21,
          14,
          25,
          7,
          3,
          5,
          8,
          7,
          7,
          509,
          1,
          33,
          13,
          110,
          832,
          1000,
          95,
          143,
          1738,
          38,
          13,
          38,
          6,
          1277,
          312,
          2014,
          2341,
          1081,
          100,
          468,
          666,
          1049,
          855,
          914,
          582,
          441,
          115,
          42,
          23,
          34,
          18,
          37,
          48,
          101,
          108,
          24,
          23,
          37,
          113,
          10,
          327,
          173,
          437,
          8,
          22,
          13,
          190,
          8,
          47,
          53,
          71,
          1739,
          266,
          10,
          903,
          151,
          101,
          313,
          164,
          15,
          12,
          64,
          4217,
          4710,
          242,
          120,
          51,
          438,
          2030,
          460,
          8,
          5,
          3,
          34,
          126,
          247,
          287,
          1618,
          46,
          108,
          232,
          237,
          291,
          79,
          48,
          164,
          356,
          244,
          2709,
          240,
          540,
          826,
          2331,
          4495,
          3149,
          213,
          19,
          430,
          307,
          226,
          90,
          5,
          64,
          113,
          45,
          52,
          138,
          19,
          176,
          136,
          95,
          24,
          102,
          5336,
          2654,
          2533,
          113,
          11,
          133,
          20,
          169,
          29,
          17,
          364,
          453,
          1487,
          959,
          295,
          362,
          76,
          461,
          415,
          3877,
          542,
          1315,
          98,
          50,
          25,
          12,
          38,
          245,
          89,
          29,
          992,
          139,
          36,
          48,
          130,
          20,
          36,
          31,
          386,
          109,
          177,
          199,
          44,
          10,
          209,
          63,
          2,
          17,
          9,
          150,
          94,
          406,
          1919,
          26,
          12,
          28,
          105,
          868,
          96,
          214,
          19,
          9,
          4,
          6,
          7,
          2,
          4,
          3,
          12,
          2,
          3,
          7,
          6,
          6,
          9,
          9,
          13,
          13,
          18,
          40,
          6,
          44,
          45,
          32,
          87,
          41,
          235,
          115,
          1590,
          315,
          192,
          171,
          16,
          279,
          1389,
          256,
          58,
          63,
          396,
          1348,
          140,
          36,
          24,
          26,
          11,
          14,
          14,
          23,
          17,
          8,
          13,
          27,
          8,
          16,
          15,
          17,
          65,
          92,
          79,
          84,
          73,
          85,
          2639,
          263,
          7,
          750,
          60,
          86,
          51,
          167,
          64,
          37,
          7,
          134,
          92,
          4,
          37,
          13,
          357,
          1519,
          56,
          49,
          86,
          785,
          907,
          173,
          42,
          57,
          7,
          98,
          2,
          2,
          23,
          26,
          101,
          1728,
          2724,
          2981,
          154,
          270,
          28,
          237,
          865,
          26,
          44,
          67,
          2274,
          210,
          177,
          37,
          407,
          706,
          22,
          111,
          2,
          1,
          11,
          3,
          0,
          5,
          1,
          3,
          2,
          8,
          126,
          72,
          43,
          39,
          23,
          9,
          2,
          66,
          3,
          0,
          3,
          5,
          10,
          3,
          1,
          0,
          1,
          6,
          1,
          118,
          9,
          85,
          63,
          13,
          3,
          2,
          1,
          2,
          0,
          0,
          3,
          2,
          2,
          1,
          1,
          0,
          2,
          0,
          5,
          66,
          95,
          643,
          321,
          210,
          42,
          45,
          19,
          16,
          207,
          226,
          117,
          148,
          1166,
          44,
          2326,
          878,
          682,
          397,
          343,
          2107,
          728,
          475,
          75,
          149,
          181,
          57,
          35,
          196,
          49,
          226,
          482,
          763,
          272,
          15,
          903,
          2,
          0,
          585,
          13,
          32,
          17,
          26,
          217,
          891,
          205,
          66,
          42,
          264,
          149,
          42,
          199,
          170,
          123,
          180,
          269,
          1977,
          514,
          128,
          20,
          317,
          36,
          7,
          9,
          470,
          72,
          168,
          188,
          5,
          545,
          83,
          329,
          23,
          8,
          8,
          152,
          227,
          1839,
          25,
          31,
          46,
          1964,
          72,
          3,
          3,
          2,
          632,
          41,
          448,
          310,
          30,
          81,
          85,
          5,
          11,
          3009,
          108,
          28,
          1,
          24,
          30,
          265,
          148,
          69,
          115,
          1,
          45,
          144,
          230,
          95,
          139,
          934,
          504,
          1141,
          376,
          29,
          21,
          71,
          89,
          42,
          52,
          86,
          50,
          30,
          42,
          175,
          44,
          153,
          175,
          204,
          140,
          98,
          155,
          260,
          156,
          119,
          410,
          87,
          87,
          12,
          30,
          21,
          12,
          29,
          88,
          63,
          13,
          57,
          12,
          17,
          12,
          17,
          3,
          0,
          2,
          2385,
          2609,
          1712,
          7,
          493,
          1370,
          214,
          726,
          2775,
          2493,
          629,
          1994,
          752,
          1,
          929,
          3686,
          2213,
          1055,
          794,
          68,
          6,
          74,
          24,
          95,
          11021,
          328,
          148,
          25,
          83,
          10,
          1855,
          2613,
          93,
          0,
          4,
          3,
          1,
          3,
          6,
          3,
          1,
          8,
          15,
          1,
          1,
          13,
          25,
          180,
          3685,
          1005,
          359,
          998,
          1877,
          9,
          41,
          1199,
          129,
          108,
          266,
          208,
          827,
          42,
          345,
          92,
          2243,
          31,
          16,
          83,
          228,
          420,
          34,
          59,
          574,
          20,
          11,
          22,
          25,
          69,
          53,
          44,
          98,
          28,
          35,
          65,
          157,
          14,
          36,
          39,
          168,
          59,
          205,
          160,
          103,
          18,
          80,
          140,
          490,
          159,
          28,
          47,
          247,
          76,
          416,
          55,
          30,
          27,
          17,
          63,
          85,
          523,
          196,
          254,
          225,
          59,
          260,
          442,
          209,
          942,
          932,
          2923,
          8224,
          114,
          1234,
          2367,
          308,
          148,
          298,
          22,
          29,
          268,
          183,
          148,
          11,
          323,
          88,
          53,
          101,
          184,
          44,
          85,
          273,
          62,
          89,
          589,
          107,
          80,
          14951,
          77,
          179,
          68,
          144,
          44,
          110,
          62,
          126,
          113,
          80,
          38,
          128,
          107,
          27,
          14,
          11,
          68,
          13,
          98,
          481,
          275,
          296,
          906,
          9,
          7,
          225,
          827,
          673,
          8,
          29,
          22,
          253,
          13,
          39,
          79,
          324,
          82,
          158,
          371,
          103,
          85,
          758,
          86,
          14,
          35,
          212,
          211,
          52,
          111,
          567,
          1224,
          115,
          105,
          15,
          158,
          217,
          7,
          5,
          8,
          130,
          182,
          430,
          108,
          656,
          121,
          53,
          235,
          91,
          283,
          20,
          297,
          166,
          81,
          100,
          3202,
          239,
          5,
          76,
          9,
          1201,
          180,
          20,
          373,
          74,
          51,
          38,
          24,
          731,
          7558,
          314,
          251,
          77,
          49,
          1801,
          7797,
          50,
          140,
          1098,
          202,
          187,
          222,
          12524,
          60,
          75,
          283,
          119,
          70,
          2606,
          158,
          2163,
          1432,
          22,
          77,
          5297,
          32,
          40,
          26,
          26,
          17,
          14,
          2315,
          32,
          20,
          81,
          206,
          92,
          76,
          749,
          1923,
          11779,
          3142,
          210,
          155,
          124,
          183,
          92,
          73,
          2244,
          555,
          132,
          225,
          191,
          30,
          44,
          110,
          686,
          40,
          4728,
          177,
          1255,
          167,
          170,
          47,
          48,
          2072,
          113,
          101,
          1757,
          230,
          17,
          3,
          4,
          2,
          6,
          133,
          148,
          319,
          149,
          130,
          310,
          386,
          1874,
          462,
          682,
          3011,
          1055,
          208,
          300,
          450,
          24,
          22,
          7,
          4,
          212,
          56,
          1468,
          49,
          4658,
          2478,
          4103,
          79,
          1902,
          156,
          93,
          47,
          293,
          206,
          215,
          742,
          4187,
          199,
          24,
          364,
          489,
          4374,
          104,
          345,
          61,
          374,
          3678,
          702,
          2063,
          20,
          26,
          127,
          228,
          4,
          243,
          144,
          101,
          712,
          53,
          192,
          117,
          51,
          19,
          41,
          62,
          1269,
          80,
          434,
          7,
          43,
          108,
          214,
          301,
          62,
          219,
          83,
          75,
          18,
          113,
          46,
          309,
          631,
          288,
          10,
          4,
          2,
          271,
          1773,
          22,
          27,
          57,
          6,
          4945,
          1423,
          696,
          1440,
          196,
          84,
          54,
          82,
          126,
          1455,
          268,
          69,
          2086,
          134,
          57,
          91,
          215,
          29,
          41,
          224,
          332,
          114,
          28,
          61,
          305,
          34,
          136,
          15,
          256,
          209,
          229,
          287,
          40,
          1417,
          772,
          55,
          36,
          176,
          632,
          978,
          95,
          32,
          15,
          4,
          12981,
          333,
          10,
          587,
          240,
          3519,
          99,
          1276,
          1079,
          697,
          10757,
          93,
          41,
          186,
          14,
          128,
          52,
          224,
          339,
          49,
          50,
          8379,
          1454,
          79,
          312,
          56,
          61,
          153,
          20,
          50,
          61,
          2,
          1273,
          17,
          50,
          1282,
          46,
          1013,
          28,
          327,
          120,
          96,
          90,
          2298,
          149,
          3571,
          229,
          148,
          51,
          93,
          28,
          7816,
          53,
          108,
          382,
          211,
          30,
          2796,
          48,
          1460,
          334,
          1644,
          1153,
          1629,
          89,
          105,
          702,
          71,
          129,
          43,
          6,
          913,
          225,
          911,
          773,
          28,
          53,
          91,
          193,
          701,
          840,
          433,
          2225,
          1958,
          122,
          55,
          139,
          79,
          105,
          616,
          170,
          338,
          153,
          172,
          679,
          208,
          13423,
          194,
          1335,
          134,
          2106,
          6,
          1323,
          571,
          1064,
          168,
          235,
          518,
          256,
          53,
          42,
          379,
          734,
          231,
          180,
          20,
          183,
          103,
          1711,
          31,
          52,
          12,
          4,
          277,
          333,
          4,
          8,
          673,
          231,
          55,
          22,
          489,
          397,
          165,
          722,
          8,
          47,
          221,
          116,
          7753,
          102,
          191,
          56523,
          1400,
          30,
          588,
          28,
          370,
          637,
          13,
          1211,
          60,
          55,
          202,
          10939,
          659,
          250,
          131,
          441,
          643,
          612,
          162,
          79,
          2605,
          129,
          423,
          5168,
          5622,
          381,
          2,
          956,
          140,
          729,
          210,
          121,
          438,
          381,
          581,
          125,
          1878,
          3904,
          77169,
          35,
          459,
          3178,
          354,
          616,
          789,
          266,
          50,
          2846,
          119,
          9,
          163,
          78,
          975,
          17,
          322,
          145,
          917,
          415,
          9570,
          537,
          309,
          24,
          5102,
          326,
          5,
          288,
          194,
          212,
          51,
          1872,
          490,
          218,
          3497,
          60,
          1534,
          135,
          337,
          91,
          53,
          5747,
          61,
          415,
          536,
          698,
          2808,
          47,
          426,
          928,
          56,
          514,
          274,
          302,
          107,
          374,
          64,
          77,
          262,
          1708,
          151,
          905,
          167,
          115,
          97,
          500,
          873,
          14024,
          1537,
          495,
          1173,
          190,
          192,
          383,
          317,
          104,
          1002,
          247,
          44,
          4,
          1132,
          1891,
          170,
          49,
          154,
          160,
          446,
          1138,
          113,
          209,
          5825,
          92,
          166,
          187,
          151,
          65,
          165,
          44,
          2361,
          14,
          113,
          34416,
          287,
          495,
          688,
          1815,
          97,
          91,
          2486,
          65,
          259,
          56,
          180,
          178,
          16,
          382,
          141,
          136,
          101,
          13,
          29,
          718,
          373,
          93,
          753,
          83,
          377,
          207,
          20268,
          136,
          333,
          14,
          179,
          767,
          192,
          27,
          236,
          584,
          242,
          310,
          178,
          572,
          12038,
          237,
          417,
          973,
          679,
          8354,
          3651,
          525,
          502,
          1063,
          2786,
          571,
          338,
          61,
          95,
          1426,
          302,
          143,
          169,
          392,
          1257,
          1647,
          22,
          70,
          11,
          2286,
          906,
          52,
          234,
          279,
          2462,
          284,
          556,
          1171,
          449,
          953,
          3811,
          82,
          695,
          99,
          136,
          1051,
          16,
          59,
          361,
          341,
          2720,
          1132,
          882,
          88,
          154,
          92,
          317,
          106,
          401,
          169,
          66,
          1378,
          213,
          1890,
          577,
          1157,
          34,
          3560,
          1982,
          174,
          38,
          103,
          882,
          99,
          34,
          9,
          14,
          625,
          3802,
          177,
          1126,
          5,
          2946,
          22166,
          3799,
          291,
          80,
          12,
          3378,
          1085,
          121,
          486,
          8254,
          8,
          22,
          1511,
          69,
          201,
          76,
          139,
          57,
          523,
          298,
          26,
          562,
          1729,
          447,
          1162,
          140,
          22,
          1131,
          1233,
          20,
          3297,
          274,
          1647,
          812,
          1953,
          1382,
          3585,
          1290,
          33,
          65,
          780,
          354,
          164,
          226,
          299,
          6117,
          1103,
          566,
          21,
          250,
          6176,
          4326,
          2143,
          479,
          217,
          72,
          33,
          120,
          1436,
          526,
          1609,
          8,
          9,
          50,
          166,
          86,
          2913,
          1309,
          33,
          139,
          92,
          169,
          8,
          69,
          129,
          4636,
          936,
          164,
          636,
          40,
          163,
          3362,
          149,
          283,
          108,
          556,
          962,
          405,
          1473,
          3424,
          8881,
          101,
          241,
          266,
          4418,
          743,
          2820,
          97,
          578,
          88,
          136,
          72,
          42,
          80,
          272,
          7383,
          185,
          415,
          943,
          431,
          271,
          660,
          668,
          181,
          120,
          827,
          2337,
          61,
          102,
          2025,
          418,
          75,
          479,
          268,
          19,
          772,
          107,
          2,
          9609,
          306,
          39,
          218,
          3754,
          33,
          106,
          838,
          650,
          76,
          509,
          106,
          36,
          23,
          41,
          1596,
          615,
          2482,
          348,
          3134,
          449,
          182,
          347,
          1419,
          156,
          756,
          50,
          159,
          298,
          46,
          4,
          78,
          58,
          580,
          10,
          292,
          52,
          62,
          986,
          235,
          533,
          67,
          387,
          114,
          195,
          916,
          10167,
          221,
          2861,
          71,
          41,
          37,
          163,
          49,
          135,
          39,
          984,
          188,
          18,
          227,
          108,
          1563,
          349,
          585,
          248,
          181,
          1589,
          319,
          1046,
          691,
          168,
          1144,
          126,
          131,
          98,
          190,
          258,
          33,
          1050,
          138,
          287,
          26,
          621,
          63,
          4,
          71,
          553,
          393,
          517,
          1444,
          132,
          2751,
          1972,
          286,
          93,
          252,
          44,
          256,
          430,
          1644,
          608,
          62,
          100,
          143,
          72,
          44,
          332,
          1840,
          25,
          1137,
          98,
          197,
          318,
          974,
          21,
          87,
          39,
          26,
          99,
          15,
          107,
          51,
          114,
          125,
          8,
          7,
          113,
          16905,
          155,
          186,
          148,
          215,
          55,
          77,
          27,
          150,
          313,
          264,
          69,
          1300,
          305,
          123,
          345,
          272,
          48
         ],
         "xaxis": "x",
         "yaxis": "y"
        }
       ],
       "layout": {
        "barmode": "relative",
        "legend": {
         "tracegroupgap": 0
        },
        "margin": {
         "t": 60
        },
        "template": {
         "data": {
          "bar": [
           {
            "error_x": {
             "color": "#2a3f5f"
            },
            "error_y": {
             "color": "#2a3f5f"
            },
            "marker": {
             "line": {
              "color": "#E5ECF6",
              "width": 0.5
             },
             "pattern": {
              "fillmode": "overlay",
              "size": 10,
              "solidity": 0.2
             }
            },
            "type": "bar"
           }
          ],
          "barpolar": [
           {
            "marker": {
             "line": {
              "color": "#E5ECF6",
              "width": 0.5
             },
             "pattern": {
              "fillmode": "overlay",
              "size": 10,
              "solidity": 0.2
             }
            },
            "type": "barpolar"
           }
          ],
          "carpet": [
           {
            "aaxis": {
             "endlinecolor": "#2a3f5f",
             "gridcolor": "white",
             "linecolor": "white",
             "minorgridcolor": "white",
             "startlinecolor": "#2a3f5f"
            },
            "baxis": {
             "endlinecolor": "#2a3f5f",
             "gridcolor": "white",
             "linecolor": "white",
             "minorgridcolor": "white",
             "startlinecolor": "#2a3f5f"
            },
            "type": "carpet"
           }
          ],
          "choropleth": [
           {
            "colorbar": {
             "outlinewidth": 0,
             "ticks": ""
            },
            "type": "choropleth"
           }
          ],
          "contour": [
           {
            "colorbar": {
             "outlinewidth": 0,
             "ticks": ""
            },
            "colorscale": [
             [
              0,
              "#0d0887"
             ],
             [
              0.1111111111111111,
              "#46039f"
             ],
             [
              0.2222222222222222,
              "#7201a8"
             ],
             [
              0.3333333333333333,
              "#9c179e"
             ],
             [
              0.4444444444444444,
              "#bd3786"
             ],
             [
              0.5555555555555556,
              "#d8576b"
             ],
             [
              0.6666666666666666,
              "#ed7953"
             ],
             [
              0.7777777777777778,
              "#fb9f3a"
             ],
             [
              0.8888888888888888,
              "#fdca26"
             ],
             [
              1,
              "#f0f921"
             ]
            ],
            "type": "contour"
           }
          ],
          "contourcarpet": [
           {
            "colorbar": {
             "outlinewidth": 0,
             "ticks": ""
            },
            "type": "contourcarpet"
           }
          ],
          "heatmap": [
           {
            "colorbar": {
             "outlinewidth": 0,
             "ticks": ""
            },
            "colorscale": [
             [
              0,
              "#0d0887"
             ],
             [
              0.1111111111111111,
              "#46039f"
             ],
             [
              0.2222222222222222,
              "#7201a8"
             ],
             [
              0.3333333333333333,
              "#9c179e"
             ],
             [
              0.4444444444444444,
              "#bd3786"
             ],
             [
              0.5555555555555556,
              "#d8576b"
             ],
             [
              0.6666666666666666,
              "#ed7953"
             ],
             [
              0.7777777777777778,
              "#fb9f3a"
             ],
             [
              0.8888888888888888,
              "#fdca26"
             ],
             [
              1,
              "#f0f921"
             ]
            ],
            "type": "heatmap"
           }
          ],
          "heatmapgl": [
           {
            "colorbar": {
             "outlinewidth": 0,
             "ticks": ""
            },
            "colorscale": [
             [
              0,
              "#0d0887"
             ],
             [
              0.1111111111111111,
              "#46039f"
             ],
             [
              0.2222222222222222,
              "#7201a8"
             ],
             [
              0.3333333333333333,
              "#9c179e"
             ],
             [
              0.4444444444444444,
              "#bd3786"
             ],
             [
              0.5555555555555556,
              "#d8576b"
             ],
             [
              0.6666666666666666,
              "#ed7953"
             ],
             [
              0.7777777777777778,
              "#fb9f3a"
             ],
             [
              0.8888888888888888,
              "#fdca26"
             ],
             [
              1,
              "#f0f921"
             ]
            ],
            "type": "heatmapgl"
           }
          ],
          "histogram": [
           {
            "marker": {
             "pattern": {
              "fillmode": "overlay",
              "size": 10,
              "solidity": 0.2
             }
            },
            "type": "histogram"
           }
          ],
          "histogram2d": [
           {
            "colorbar": {
             "outlinewidth": 0,
             "ticks": ""
            },
            "colorscale": [
             [
              0,
              "#0d0887"
             ],
             [
              0.1111111111111111,
              "#46039f"
             ],
             [
              0.2222222222222222,
              "#7201a8"
             ],
             [
              0.3333333333333333,
              "#9c179e"
             ],
             [
              0.4444444444444444,
              "#bd3786"
             ],
             [
              0.5555555555555556,
              "#d8576b"
             ],
             [
              0.6666666666666666,
              "#ed7953"
             ],
             [
              0.7777777777777778,
              "#fb9f3a"
             ],
             [
              0.8888888888888888,
              "#fdca26"
             ],
             [
              1,
              "#f0f921"
             ]
            ],
            "type": "histogram2d"
           }
          ],
          "histogram2dcontour": [
           {
            "colorbar": {
             "outlinewidth": 0,
             "ticks": ""
            },
            "colorscale": [
             [
              0,
              "#0d0887"
             ],
             [
              0.1111111111111111,
              "#46039f"
             ],
             [
              0.2222222222222222,
              "#7201a8"
             ],
             [
              0.3333333333333333,
              "#9c179e"
             ],
             [
              0.4444444444444444,
              "#bd3786"
             ],
             [
              0.5555555555555556,
              "#d8576b"
             ],
             [
              0.6666666666666666,
              "#ed7953"
             ],
             [
              0.7777777777777778,
              "#fb9f3a"
             ],
             [
              0.8888888888888888,
              "#fdca26"
             ],
             [
              1,
              "#f0f921"
             ]
            ],
            "type": "histogram2dcontour"
           }
          ],
          "mesh3d": [
           {
            "colorbar": {
             "outlinewidth": 0,
             "ticks": ""
            },
            "type": "mesh3d"
           }
          ],
          "parcoords": [
           {
            "line": {
             "colorbar": {
              "outlinewidth": 0,
              "ticks": ""
             }
            },
            "type": "parcoords"
           }
          ],
          "pie": [
           {
            "automargin": true,
            "type": "pie"
           }
          ],
          "scatter": [
           {
            "marker": {
             "colorbar": {
              "outlinewidth": 0,
              "ticks": ""
             }
            },
            "type": "scatter"
           }
          ],
          "scatter3d": [
           {
            "line": {
             "colorbar": {
              "outlinewidth": 0,
              "ticks": ""
             }
            },
            "marker": {
             "colorbar": {
              "outlinewidth": 0,
              "ticks": ""
             }
            },
            "type": "scatter3d"
           }
          ],
          "scattercarpet": [
           {
            "marker": {
             "colorbar": {
              "outlinewidth": 0,
              "ticks": ""
             }
            },
            "type": "scattercarpet"
           }
          ],
          "scattergeo": [
           {
            "marker": {
             "colorbar": {
              "outlinewidth": 0,
              "ticks": ""
             }
            },
            "type": "scattergeo"
           }
          ],
          "scattergl": [
           {
            "marker": {
             "colorbar": {
              "outlinewidth": 0,
              "ticks": ""
             }
            },
            "type": "scattergl"
           }
          ],
          "scattermapbox": [
           {
            "marker": {
             "colorbar": {
              "outlinewidth": 0,
              "ticks": ""
             }
            },
            "type": "scattermapbox"
           }
          ],
          "scatterpolar": [
           {
            "marker": {
             "colorbar": {
              "outlinewidth": 0,
              "ticks": ""
             }
            },
            "type": "scatterpolar"
           }
          ],
          "scatterpolargl": [
           {
            "marker": {
             "colorbar": {
              "outlinewidth": 0,
              "ticks": ""
             }
            },
            "type": "scatterpolargl"
           }
          ],
          "scatterternary": [
           {
            "marker": {
             "colorbar": {
              "outlinewidth": 0,
              "ticks": ""
             }
            },
            "type": "scatterternary"
           }
          ],
          "surface": [
           {
            "colorbar": {
             "outlinewidth": 0,
             "ticks": ""
            },
            "colorscale": [
             [
              0,
              "#0d0887"
             ],
             [
              0.1111111111111111,
              "#46039f"
             ],
             [
              0.2222222222222222,
              "#7201a8"
             ],
             [
              0.3333333333333333,
              "#9c179e"
             ],
             [
              0.4444444444444444,
              "#bd3786"
             ],
             [
              0.5555555555555556,
              "#d8576b"
             ],
             [
              0.6666666666666666,
              "#ed7953"
             ],
             [
              0.7777777777777778,
              "#fb9f3a"
             ],
             [
              0.8888888888888888,
              "#fdca26"
             ],
             [
              1,
              "#f0f921"
             ]
            ],
            "type": "surface"
           }
          ],
          "table": [
           {
            "cells": {
             "fill": {
              "color": "#EBF0F8"
             },
             "line": {
              "color": "white"
             }
            },
            "header": {
             "fill": {
              "color": "#C8D4E3"
             },
             "line": {
              "color": "white"
             }
            },
            "type": "table"
           }
          ]
         },
         "layout": {
          "annotationdefaults": {
           "arrowcolor": "#2a3f5f",
           "arrowhead": 0,
           "arrowwidth": 1
          },
          "autotypenumbers": "strict",
          "coloraxis": {
           "colorbar": {
            "outlinewidth": 0,
            "ticks": ""
           }
          },
          "colorscale": {
           "diverging": [
            [
             0,
             "#8e0152"
            ],
            [
             0.1,
             "#c51b7d"
            ],
            [
             0.2,
             "#de77ae"
            ],
            [
             0.3,
             "#f1b6da"
            ],
            [
             0.4,
             "#fde0ef"
            ],
            [
             0.5,
             "#f7f7f7"
            ],
            [
             0.6,
             "#e6f5d0"
            ],
            [
             0.7,
             "#b8e186"
            ],
            [
             0.8,
             "#7fbc41"
            ],
            [
             0.9,
             "#4d9221"
            ],
            [
             1,
             "#276419"
            ]
           ],
           "sequential": [
            [
             0,
             "#0d0887"
            ],
            [
             0.1111111111111111,
             "#46039f"
            ],
            [
             0.2222222222222222,
             "#7201a8"
            ],
            [
             0.3333333333333333,
             "#9c179e"
            ],
            [
             0.4444444444444444,
             "#bd3786"
            ],
            [
             0.5555555555555556,
             "#d8576b"
            ],
            [
             0.6666666666666666,
             "#ed7953"
            ],
            [
             0.7777777777777778,
             "#fb9f3a"
            ],
            [
             0.8888888888888888,
             "#fdca26"
            ],
            [
             1,
             "#f0f921"
            ]
           ],
           "sequentialminus": [
            [
             0,
             "#0d0887"
            ],
            [
             0.1111111111111111,
             "#46039f"
            ],
            [
             0.2222222222222222,
             "#7201a8"
            ],
            [
             0.3333333333333333,
             "#9c179e"
            ],
            [
             0.4444444444444444,
             "#bd3786"
            ],
            [
             0.5555555555555556,
             "#d8576b"
            ],
            [
             0.6666666666666666,
             "#ed7953"
            ],
            [
             0.7777777777777778,
             "#fb9f3a"
            ],
            [
             0.8888888888888888,
             "#fdca26"
            ],
            [
             1,
             "#f0f921"
            ]
           ]
          },
          "colorway": [
           "#636efa",
           "#EF553B",
           "#00cc96",
           "#ab63fa",
           "#FFA15A",
           "#19d3f3",
           "#FF6692",
           "#B6E880",
           "#FF97FF",
           "#FECB52"
          ],
          "font": {
           "color": "#2a3f5f"
          },
          "geo": {
           "bgcolor": "white",
           "lakecolor": "white",
           "landcolor": "#E5ECF6",
           "showlakes": true,
           "showland": true,
           "subunitcolor": "white"
          },
          "hoverlabel": {
           "align": "left"
          },
          "hovermode": "closest",
          "mapbox": {
           "style": "light"
          },
          "paper_bgcolor": "white",
          "plot_bgcolor": "#E5ECF6",
          "polar": {
           "angularaxis": {
            "gridcolor": "white",
            "linecolor": "white",
            "ticks": ""
           },
           "bgcolor": "#E5ECF6",
           "radialaxis": {
            "gridcolor": "white",
            "linecolor": "white",
            "ticks": ""
           }
          },
          "scene": {
           "xaxis": {
            "backgroundcolor": "#E5ECF6",
            "gridcolor": "white",
            "gridwidth": 2,
            "linecolor": "white",
            "showbackground": true,
            "ticks": "",
            "zerolinecolor": "white"
           },
           "yaxis": {
            "backgroundcolor": "#E5ECF6",
            "gridcolor": "white",
            "gridwidth": 2,
            "linecolor": "white",
            "showbackground": true,
            "ticks": "",
            "zerolinecolor": "white"
           },
           "zaxis": {
            "backgroundcolor": "#E5ECF6",
            "gridcolor": "white",
            "gridwidth": 2,
            "linecolor": "white",
            "showbackground": true,
            "ticks": "",
            "zerolinecolor": "white"
           }
          },
          "shapedefaults": {
           "line": {
            "color": "#2a3f5f"
           }
          },
          "ternary": {
           "aaxis": {
            "gridcolor": "white",
            "linecolor": "white",
            "ticks": ""
           },
           "baxis": {
            "gridcolor": "white",
            "linecolor": "white",
            "ticks": ""
           },
           "bgcolor": "#E5ECF6",
           "caxis": {
            "gridcolor": "white",
            "linecolor": "white",
            "ticks": ""
           }
          },
          "title": {
           "x": 0.05
          },
          "xaxis": {
           "automargin": true,
           "gridcolor": "white",
           "linecolor": "white",
           "ticks": "",
           "title": {
            "standoff": 15
           },
           "zerolinecolor": "white",
           "zerolinewidth": 2
          },
          "yaxis": {
           "automargin": true,
           "gridcolor": "white",
           "linecolor": "white",
           "ticks": "",
           "title": {
            "standoff": 15
           },
           "zerolinecolor": "white",
           "zerolinewidth": 2
          }
         }
        },
        "xaxis": {
         "anchor": "y",
         "domain": [
          0,
          1
         ],
         "title": {
          "text": "negative_ratings"
         }
        },
        "yaxis": {
         "anchor": "x",
         "domain": [
          0,
          1
         ],
         "title": {
          "text": "count"
         }
        }
       }
      }
     },
     "metadata": {},
     "output_type": "display_data"
    }
   ],
   "source": [
    "fig = px.histogram(data,x = \"negative_ratings\",)\n",
    "fig.show()"
   ]
  },
  {
   "cell_type": "code",
   "execution_count": 19,
   "metadata": {},
   "outputs": [],
   "source": [
    "adult_games , not_adult_games = data[data['required_age']>=18].shape[0],data[data['required_age']<18].shape[0],"
   ]
  },
  {
   "cell_type": "code",
   "execution_count": 20,
   "metadata": {},
   "outputs": [
    {
     "ename": "NameError",
     "evalue": "name 'labels' is not defined",
     "output_type": "error",
     "traceback": [
      "\u001b[0;31m---------------------------------------------------------------------------\u001b[0m",
      "\u001b[0;31mNameError\u001b[0m                                 Traceback (most recent call last)",
      "\u001b[1;32m/Users/subhammishra/Desktop/projects/Machine Learning/game-analysis/analysis.ipynb Cell 19\u001b[0m in \u001b[0;36m<cell line: 2>\u001b[0;34m()\u001b[0m\n\u001b[1;32m      <a href='vscode-notebook-cell:/Users/subhammishra/Desktop/projects/Machine%20Learning/game-analysis/analysis.ipynb#X24sZmlsZQ%3D%3D?line=0'>1</a>\u001b[0m label\u001b[39m=\u001b[39m [\u001b[39m'\u001b[39m\u001b[39madult_games\u001b[39m\u001b[39m'\u001b[39m,\u001b[39m'\u001b[39m\u001b[39mnot_adult_games\u001b[39m\u001b[39m'\u001b[39m]\n\u001b[0;32m----> <a href='vscode-notebook-cell:/Users/subhammishra/Desktop/projects/Machine%20Learning/game-analysis/analysis.ipynb#X24sZmlsZQ%3D%3D?line=1'>2</a>\u001b[0m fig \u001b[39m=\u001b[39m px\u001b[39m.\u001b[39mpie(values\u001b[39m=\u001b[39m[adult_games , not_adult_games],names\u001b[39m=\u001b[39mlabels)\n\u001b[1;32m      <a href='vscode-notebook-cell:/Users/subhammishra/Desktop/projects/Machine%20Learning/game-analysis/analysis.ipynb#X24sZmlsZQ%3D%3D?line=2'>3</a>\u001b[0m fig\u001b[39m.\u001b[39mshow()\n",
      "\u001b[0;31mNameError\u001b[0m: name 'labels' is not defined"
     ]
    }
   ],
   "source": [
    "label= ['adult_games','not_adult_games']\n",
    "fig = px.pie(values=[adult_games , not_adult_games],names=labels)\n",
    "fig.show()"
   ]
  },
  {
   "cell_type": "code",
   "execution_count": null,
   "metadata": {},
   "outputs": [
    {
     "data": {
      "text/plain": [
       "array(['Action', 'Indie', 'Strategy', 'RPG', 'Animation & Modeling',\n",
       "       'Casual', 'Simulation', 'Racing', 'Adventure', 'Violent', 'Nudity',\n",
       "       'Free to Play', 'Sports', 'Gore', 'Massively Multiplayer',\n",
       "       'Utilities', 'Design & Illustration', 'Education',\n",
       "       'Web Publishing', 'Sexual Content'], dtype=object)"
      ]
     },
     "execution_count": 50,
     "metadata": {},
     "output_type": "execute_result"
    }
   ],
   "source": [
    "data['genres'].unique()"
   ]
  },
  {
   "cell_type": "code",
   "execution_count": null,
   "metadata": {},
   "outputs": [
    {
     "ename": "NameError",
     "evalue": "name 'data' is not defined",
     "output_type": "error",
     "traceback": [
      "\u001b[0;31m---------------------------------------------------------------------------\u001b[0m",
      "\u001b[0;31mNameError\u001b[0m                                 Traceback (most recent call last)",
      "\u001b[1;32m/Users/subhammishra/Desktop/projects/Machine Learning/game-analysis/analysis.ipynb Cell 21\u001b[0m in \u001b[0;36m<cell line: 2>\u001b[0;34m()\u001b[0m\n\u001b[1;32m      <a href='vscode-notebook-cell:/Users/subhammishra/Desktop/projects/Machine%20Learning/game-analysis/analysis.ipynb#X26sZmlsZQ%3D%3D?line=0'>1</a>\u001b[0m \u001b[39m# plt.figure(figsize = [10, 5])\u001b[39;00m\n\u001b[0;32m----> <a href='vscode-notebook-cell:/Users/subhammishra/Desktop/projects/Machine%20Learning/game-analysis/analysis.ipynb#X26sZmlsZQ%3D%3D?line=1'>2</a>\u001b[0m d \u001b[39m=\u001b[39m data\u001b[39m.\u001b[39mgroupby(by\u001b[39m=\u001b[39m[\u001b[39m\"\u001b[39m\u001b[39mgenres\u001b[39m\u001b[39m\"\u001b[39m])\u001b[39m.\u001b[39msize()\u001b[39m.\u001b[39mreset_index(name\u001b[39m=\u001b[39m\u001b[39m\"\u001b[39m\u001b[39mcounts\u001b[39m\u001b[39m\"\u001b[39m)\n\u001b[1;32m      <a href='vscode-notebook-cell:/Users/subhammishra/Desktop/projects/Machine%20Learning/game-analysis/analysis.ipynb#X26sZmlsZQ%3D%3D?line=2'>3</a>\u001b[0m px\u001b[39m.\u001b[39mbar(data_frame\u001b[39m=\u001b[39md,x\u001b[39m=\u001b[39m\u001b[39m\"\u001b[39m\u001b[39mgenres\u001b[39m\u001b[39m\"\u001b[39m,y\u001b[39m=\u001b[39m\u001b[39m\"\u001b[39m\u001b[39mcounts\u001b[39m\u001b[39m\"\u001b[39m,title\u001b[39m=\u001b[39m\u001b[39m\"\u001b[39m\u001b[39mGenres Based Games\u001b[39m\u001b[39m\"\u001b[39m)\n",
      "\u001b[0;31mNameError\u001b[0m: name 'data' is not defined"
     ]
    }
   ],
   "source": [
    "# plt.figure(figsize = [10, 5])\n",
    "d = data.groupby(by=[\"genres\"]).size().reset_index(name=\"counts\")\n",
    "px.bar(data_frame=d,x=\"genres\",y=\"counts\",title=\"Genres Based Games\")\n"
   ]
  },
  {
   "cell_type": "code",
   "execution_count": null,
   "metadata": {},
   "outputs": [
    {
     "data": {
      "text/html": [
       "<div>\n",
       "<style scoped>\n",
       "    .dataframe tbody tr th:only-of-type {\n",
       "        vertical-align: middle;\n",
       "    }\n",
       "\n",
       "    .dataframe tbody tr th {\n",
       "        vertical-align: top;\n",
       "    }\n",
       "\n",
       "    .dataframe thead th {\n",
       "        text-align: right;\n",
       "    }\n",
       "</style>\n",
       "<table border=\"1\" class=\"dataframe\">\n",
       "  <thead>\n",
       "    <tr style=\"text-align: right;\">\n",
       "      <th></th>\n",
       "      <th>name</th>\n",
       "      <th>release_date</th>\n",
       "      <th>developer</th>\n",
       "      <th>publisher</th>\n",
       "      <th>platforms</th>\n",
       "      <th>required_age</th>\n",
       "      <th>genres</th>\n",
       "      <th>achievements</th>\n",
       "      <th>positive_ratings</th>\n",
       "      <th>negative_ratings</th>\n",
       "      <th>price</th>\n",
       "    </tr>\n",
       "  </thead>\n",
       "  <tbody>\n",
       "    <tr>\n",
       "      <th>0</th>\n",
       "      <td>Counter-Strike</td>\n",
       "      <td>2000-11-01</td>\n",
       "      <td>Valve</td>\n",
       "      <td>Valve</td>\n",
       "      <td>windows;mac;linux</td>\n",
       "      <td>0</td>\n",
       "      <td>Action</td>\n",
       "      <td>0</td>\n",
       "      <td>124534</td>\n",
       "      <td>3339</td>\n",
       "      <td>7.19</td>\n",
       "    </tr>\n",
       "    <tr>\n",
       "      <th>1</th>\n",
       "      <td>Team Fortress Classic</td>\n",
       "      <td>1999-04-01</td>\n",
       "      <td>Valve</td>\n",
       "      <td>Valve</td>\n",
       "      <td>windows;mac;linux</td>\n",
       "      <td>0</td>\n",
       "      <td>Action</td>\n",
       "      <td>0</td>\n",
       "      <td>3318</td>\n",
       "      <td>633</td>\n",
       "      <td>3.99</td>\n",
       "    </tr>\n",
       "    <tr>\n",
       "      <th>2</th>\n",
       "      <td>Day of Defeat</td>\n",
       "      <td>2003-05-01</td>\n",
       "      <td>Valve</td>\n",
       "      <td>Valve</td>\n",
       "      <td>windows;mac;linux</td>\n",
       "      <td>0</td>\n",
       "      <td>Action</td>\n",
       "      <td>0</td>\n",
       "      <td>3416</td>\n",
       "      <td>398</td>\n",
       "      <td>3.99</td>\n",
       "    </tr>\n",
       "    <tr>\n",
       "      <th>3</th>\n",
       "      <td>Deathmatch Classic</td>\n",
       "      <td>2001-06-01</td>\n",
       "      <td>Valve</td>\n",
       "      <td>Valve</td>\n",
       "      <td>windows;mac;linux</td>\n",
       "      <td>0</td>\n",
       "      <td>Action</td>\n",
       "      <td>0</td>\n",
       "      <td>1273</td>\n",
       "      <td>267</td>\n",
       "      <td>3.99</td>\n",
       "    </tr>\n",
       "    <tr>\n",
       "      <th>4</th>\n",
       "      <td>Half-Life: Opposing Force</td>\n",
       "      <td>1999-11-01</td>\n",
       "      <td>Gearbox Software</td>\n",
       "      <td>Valve</td>\n",
       "      <td>windows;mac;linux</td>\n",
       "      <td>0</td>\n",
       "      <td>Action</td>\n",
       "      <td>0</td>\n",
       "      <td>5250</td>\n",
       "      <td>288</td>\n",
       "      <td>3.99</td>\n",
       "    </tr>\n",
       "    <tr>\n",
       "      <th>...</th>\n",
       "      <td>...</td>\n",
       "      <td>...</td>\n",
       "      <td>...</td>\n",
       "      <td>...</td>\n",
       "      <td>...</td>\n",
       "      <td>...</td>\n",
       "      <td>...</td>\n",
       "      <td>...</td>\n",
       "      <td>...</td>\n",
       "      <td>...</td>\n",
       "      <td>...</td>\n",
       "    </tr>\n",
       "    <tr>\n",
       "      <th>1995</th>\n",
       "      <td>Long Live The Queen</td>\n",
       "      <td>2013-11-08</td>\n",
       "      <td>Hanako Games</td>\n",
       "      <td>Hanako Games</td>\n",
       "      <td>windows;mac;linux</td>\n",
       "      <td>0</td>\n",
       "      <td>Indie</td>\n",
       "      <td>45</td>\n",
       "      <td>5656</td>\n",
       "      <td>305</td>\n",
       "      <td>6.99</td>\n",
       "    </tr>\n",
       "    <tr>\n",
       "      <th>1996</th>\n",
       "      <td>Oniken: Unstoppable Edition</td>\n",
       "      <td>2014-02-05</td>\n",
       "      <td>JoyMasher</td>\n",
       "      <td>JoyMasher</td>\n",
       "      <td>windows</td>\n",
       "      <td>0</td>\n",
       "      <td>Action</td>\n",
       "      <td>32</td>\n",
       "      <td>589</td>\n",
       "      <td>123</td>\n",
       "      <td>3.99</td>\n",
       "    </tr>\n",
       "    <tr>\n",
       "      <th>1997</th>\n",
       "      <td>Valdis Story: Abyssal City</td>\n",
       "      <td>2013-10-30</td>\n",
       "      <td>Endlessfluff Games</td>\n",
       "      <td>Endlessfluff Games</td>\n",
       "      <td>windows;mac</td>\n",
       "      <td>0</td>\n",
       "      <td>Action</td>\n",
       "      <td>77</td>\n",
       "      <td>1934</td>\n",
       "      <td>345</td>\n",
       "      <td>10.99</td>\n",
       "    </tr>\n",
       "    <tr>\n",
       "      <th>1998</th>\n",
       "      <td>Construction Machines 2014</td>\n",
       "      <td>2014-03-28</td>\n",
       "      <td>GameCask</td>\n",
       "      <td>GameCask</td>\n",
       "      <td>windows</td>\n",
       "      <td>0</td>\n",
       "      <td>Simulation</td>\n",
       "      <td>0</td>\n",
       "      <td>38</td>\n",
       "      <td>272</td>\n",
       "      <td>4.99</td>\n",
       "    </tr>\n",
       "    <tr>\n",
       "      <th>1999</th>\n",
       "      <td>Gimbal</td>\n",
       "      <td>2013-11-19</td>\n",
       "      <td>8888888 LABS</td>\n",
       "      <td>8888888 LABS</td>\n",
       "      <td>windows</td>\n",
       "      <td>0</td>\n",
       "      <td>Action</td>\n",
       "      <td>0</td>\n",
       "      <td>153</td>\n",
       "      <td>48</td>\n",
       "      <td>7.19</td>\n",
       "    </tr>\n",
       "  </tbody>\n",
       "</table>\n",
       "<p>2000 rows × 11 columns</p>\n",
       "</div>"
      ],
      "text/plain": [
       "                             name release_date           developer  \\\n",
       "0                  Counter-Strike   2000-11-01               Valve   \n",
       "1           Team Fortress Classic   1999-04-01               Valve   \n",
       "2                   Day of Defeat   2003-05-01               Valve   \n",
       "3              Deathmatch Classic   2001-06-01               Valve   \n",
       "4       Half-Life: Opposing Force   1999-11-01    Gearbox Software   \n",
       "...                           ...          ...                 ...   \n",
       "1995          Long Live The Queen   2013-11-08        Hanako Games   \n",
       "1996  Oniken: Unstoppable Edition   2014-02-05           JoyMasher   \n",
       "1997   Valdis Story: Abyssal City   2013-10-30  Endlessfluff Games   \n",
       "1998   Construction Machines 2014   2014-03-28            GameCask   \n",
       "1999                       Gimbal   2013-11-19        8888888 LABS   \n",
       "\n",
       "               publisher          platforms  required_age      genres  \\\n",
       "0                  Valve  windows;mac;linux             0      Action   \n",
       "1                  Valve  windows;mac;linux             0      Action   \n",
       "2                  Valve  windows;mac;linux             0      Action   \n",
       "3                  Valve  windows;mac;linux             0      Action   \n",
       "4                  Valve  windows;mac;linux             0      Action   \n",
       "...                  ...                ...           ...         ...   \n",
       "1995        Hanako Games  windows;mac;linux             0       Indie   \n",
       "1996           JoyMasher            windows             0      Action   \n",
       "1997  Endlessfluff Games        windows;mac             0      Action   \n",
       "1998            GameCask            windows             0  Simulation   \n",
       "1999        8888888 LABS            windows             0      Action   \n",
       "\n",
       "      achievements  positive_ratings  negative_ratings  price  \n",
       "0                0            124534              3339   7.19  \n",
       "1                0              3318               633   3.99  \n",
       "2                0              3416               398   3.99  \n",
       "3                0              1273               267   3.99  \n",
       "4                0              5250               288   3.99  \n",
       "...            ...               ...               ...    ...  \n",
       "1995            45              5656               305   6.99  \n",
       "1996            32               589               123   3.99  \n",
       "1997            77              1934               345  10.99  \n",
       "1998             0                38               272   4.99  \n",
       "1999             0               153                48   7.19  \n",
       "\n",
       "[2000 rows x 11 columns]"
      ]
     },
     "execution_count": 54,
     "metadata": {},
     "output_type": "execute_result"
    }
   ],
   "source": []
  },
  {
   "cell_type": "code",
   "execution_count": null,
   "metadata": {},
   "outputs": [
    {
     "data": {
      "application/vnd.plotly.v1+json": {
       "config": {
        "plotlyServerURL": "https://plot.ly"
       },
       "data": [
        {
         "hovertemplate": "name=%{x}<br>price=%{y}<extra></extra>",
         "legendgroup": "",
         "line": {
          "color": "#636efa",
          "dash": "solid"
         },
         "marker": {
          "symbol": "circle"
         },
         "mode": "lines+markers",
         "name": "",
         "orientation": "v",
         "showlegend": false,
         "type": "scatter",
         "x": [
          "Counter-Strike",
          "Team Fortress Classic",
          "Day of Defeat",
          "Deathmatch Classic",
          "Half-Life: Opposing Force",
          "Ricochet",
          "Half-Life",
          "Counter-Strike: Condition Zero",
          "Half-Life: Blue Shift",
          "Half-Life 2",
          "Counter-Strike: Source",
          "Half-Life: Source",
          "Day of Defeat: Source",
          "Half-Life 2: Deathmatch",
          "Half-Life 2: Lost Coast",
          "Half-Life Deathmatch: Source",
          "Half-Life 2: Episode One",
          "Portal",
          "Half-Life 2: Episode Two",
          "Team Fortress 2",
          "Left 4 Dead",
          "Left 4 Dead 2",
          "Dota 2",
          "Portal 2",
          "Alien Swarm",
          "Counter-Strike: Global Offensive",
          "Rag Doll Kung Fu",
          "Red Orchestra: Ostfront 41-45",
          "Killing Floor",
          "SiN Episodes: Emergence"
         ],
         "xaxis": "x",
         "y": [
          7.19,
          3.99,
          3.99,
          3.99,
          3.99,
          3.99,
          7.19,
          7.19,
          3.99,
          7.19,
          7.19,
          0,
          7.19,
          3.99,
          0,
          0,
          5.79,
          7.19,
          5.79,
          0,
          7.19,
          7.19,
          0,
          7.19,
          0,
          0,
          5.99,
          3.99,
          14.99,
          7.19
         ],
         "yaxis": "y"
        }
       ],
       "layout": {
        "legend": {
         "tracegroupgap": 0
        },
        "margin": {
         "t": 60
        },
        "template": {
         "data": {
          "bar": [
           {
            "error_x": {
             "color": "#2a3f5f"
            },
            "error_y": {
             "color": "#2a3f5f"
            },
            "marker": {
             "line": {
              "color": "#E5ECF6",
              "width": 0.5
             },
             "pattern": {
              "fillmode": "overlay",
              "size": 10,
              "solidity": 0.2
             }
            },
            "type": "bar"
           }
          ],
          "barpolar": [
           {
            "marker": {
             "line": {
              "color": "#E5ECF6",
              "width": 0.5
             },
             "pattern": {
              "fillmode": "overlay",
              "size": 10,
              "solidity": 0.2
             }
            },
            "type": "barpolar"
           }
          ],
          "carpet": [
           {
            "aaxis": {
             "endlinecolor": "#2a3f5f",
             "gridcolor": "white",
             "linecolor": "white",
             "minorgridcolor": "white",
             "startlinecolor": "#2a3f5f"
            },
            "baxis": {
             "endlinecolor": "#2a3f5f",
             "gridcolor": "white",
             "linecolor": "white",
             "minorgridcolor": "white",
             "startlinecolor": "#2a3f5f"
            },
            "type": "carpet"
           }
          ],
          "choropleth": [
           {
            "colorbar": {
             "outlinewidth": 0,
             "ticks": ""
            },
            "type": "choropleth"
           }
          ],
          "contour": [
           {
            "colorbar": {
             "outlinewidth": 0,
             "ticks": ""
            },
            "colorscale": [
             [
              0,
              "#0d0887"
             ],
             [
              0.1111111111111111,
              "#46039f"
             ],
             [
              0.2222222222222222,
              "#7201a8"
             ],
             [
              0.3333333333333333,
              "#9c179e"
             ],
             [
              0.4444444444444444,
              "#bd3786"
             ],
             [
              0.5555555555555556,
              "#d8576b"
             ],
             [
              0.6666666666666666,
              "#ed7953"
             ],
             [
              0.7777777777777778,
              "#fb9f3a"
             ],
             [
              0.8888888888888888,
              "#fdca26"
             ],
             [
              1,
              "#f0f921"
             ]
            ],
            "type": "contour"
           }
          ],
          "contourcarpet": [
           {
            "colorbar": {
             "outlinewidth": 0,
             "ticks": ""
            },
            "type": "contourcarpet"
           }
          ],
          "heatmap": [
           {
            "colorbar": {
             "outlinewidth": 0,
             "ticks": ""
            },
            "colorscale": [
             [
              0,
              "#0d0887"
             ],
             [
              0.1111111111111111,
              "#46039f"
             ],
             [
              0.2222222222222222,
              "#7201a8"
             ],
             [
              0.3333333333333333,
              "#9c179e"
             ],
             [
              0.4444444444444444,
              "#bd3786"
             ],
             [
              0.5555555555555556,
              "#d8576b"
             ],
             [
              0.6666666666666666,
              "#ed7953"
             ],
             [
              0.7777777777777778,
              "#fb9f3a"
             ],
             [
              0.8888888888888888,
              "#fdca26"
             ],
             [
              1,
              "#f0f921"
             ]
            ],
            "type": "heatmap"
           }
          ],
          "heatmapgl": [
           {
            "colorbar": {
             "outlinewidth": 0,
             "ticks": ""
            },
            "colorscale": [
             [
              0,
              "#0d0887"
             ],
             [
              0.1111111111111111,
              "#46039f"
             ],
             [
              0.2222222222222222,
              "#7201a8"
             ],
             [
              0.3333333333333333,
              "#9c179e"
             ],
             [
              0.4444444444444444,
              "#bd3786"
             ],
             [
              0.5555555555555556,
              "#d8576b"
             ],
             [
              0.6666666666666666,
              "#ed7953"
             ],
             [
              0.7777777777777778,
              "#fb9f3a"
             ],
             [
              0.8888888888888888,
              "#fdca26"
             ],
             [
              1,
              "#f0f921"
             ]
            ],
            "type": "heatmapgl"
           }
          ],
          "histogram": [
           {
            "marker": {
             "pattern": {
              "fillmode": "overlay",
              "size": 10,
              "solidity": 0.2
             }
            },
            "type": "histogram"
           }
          ],
          "histogram2d": [
           {
            "colorbar": {
             "outlinewidth": 0,
             "ticks": ""
            },
            "colorscale": [
             [
              0,
              "#0d0887"
             ],
             [
              0.1111111111111111,
              "#46039f"
             ],
             [
              0.2222222222222222,
              "#7201a8"
             ],
             [
              0.3333333333333333,
              "#9c179e"
             ],
             [
              0.4444444444444444,
              "#bd3786"
             ],
             [
              0.5555555555555556,
              "#d8576b"
             ],
             [
              0.6666666666666666,
              "#ed7953"
             ],
             [
              0.7777777777777778,
              "#fb9f3a"
             ],
             [
              0.8888888888888888,
              "#fdca26"
             ],
             [
              1,
              "#f0f921"
             ]
            ],
            "type": "histogram2d"
           }
          ],
          "histogram2dcontour": [
           {
            "colorbar": {
             "outlinewidth": 0,
             "ticks": ""
            },
            "colorscale": [
             [
              0,
              "#0d0887"
             ],
             [
              0.1111111111111111,
              "#46039f"
             ],
             [
              0.2222222222222222,
              "#7201a8"
             ],
             [
              0.3333333333333333,
              "#9c179e"
             ],
             [
              0.4444444444444444,
              "#bd3786"
             ],
             [
              0.5555555555555556,
              "#d8576b"
             ],
             [
              0.6666666666666666,
              "#ed7953"
             ],
             [
              0.7777777777777778,
              "#fb9f3a"
             ],
             [
              0.8888888888888888,
              "#fdca26"
             ],
             [
              1,
              "#f0f921"
             ]
            ],
            "type": "histogram2dcontour"
           }
          ],
          "mesh3d": [
           {
            "colorbar": {
             "outlinewidth": 0,
             "ticks": ""
            },
            "type": "mesh3d"
           }
          ],
          "parcoords": [
           {
            "line": {
             "colorbar": {
              "outlinewidth": 0,
              "ticks": ""
             }
            },
            "type": "parcoords"
           }
          ],
          "pie": [
           {
            "automargin": true,
            "type": "pie"
           }
          ],
          "scatter": [
           {
            "marker": {
             "colorbar": {
              "outlinewidth": 0,
              "ticks": ""
             }
            },
            "type": "scatter"
           }
          ],
          "scatter3d": [
           {
            "line": {
             "colorbar": {
              "outlinewidth": 0,
              "ticks": ""
             }
            },
            "marker": {
             "colorbar": {
              "outlinewidth": 0,
              "ticks": ""
             }
            },
            "type": "scatter3d"
           }
          ],
          "scattercarpet": [
           {
            "marker": {
             "colorbar": {
              "outlinewidth": 0,
              "ticks": ""
             }
            },
            "type": "scattercarpet"
           }
          ],
          "scattergeo": [
           {
            "marker": {
             "colorbar": {
              "outlinewidth": 0,
              "ticks": ""
             }
            },
            "type": "scattergeo"
           }
          ],
          "scattergl": [
           {
            "marker": {
             "colorbar": {
              "outlinewidth": 0,
              "ticks": ""
             }
            },
            "type": "scattergl"
           }
          ],
          "scattermapbox": [
           {
            "marker": {
             "colorbar": {
              "outlinewidth": 0,
              "ticks": ""
             }
            },
            "type": "scattermapbox"
           }
          ],
          "scatterpolar": [
           {
            "marker": {
             "colorbar": {
              "outlinewidth": 0,
              "ticks": ""
             }
            },
            "type": "scatterpolar"
           }
          ],
          "scatterpolargl": [
           {
            "marker": {
             "colorbar": {
              "outlinewidth": 0,
              "ticks": ""
             }
            },
            "type": "scatterpolargl"
           }
          ],
          "scatterternary": [
           {
            "marker": {
             "colorbar": {
              "outlinewidth": 0,
              "ticks": ""
             }
            },
            "type": "scatterternary"
           }
          ],
          "surface": [
           {
            "colorbar": {
             "outlinewidth": 0,
             "ticks": ""
            },
            "colorscale": [
             [
              0,
              "#0d0887"
             ],
             [
              0.1111111111111111,
              "#46039f"
             ],
             [
              0.2222222222222222,
              "#7201a8"
             ],
             [
              0.3333333333333333,
              "#9c179e"
             ],
             [
              0.4444444444444444,
              "#bd3786"
             ],
             [
              0.5555555555555556,
              "#d8576b"
             ],
             [
              0.6666666666666666,
              "#ed7953"
             ],
             [
              0.7777777777777778,
              "#fb9f3a"
             ],
             [
              0.8888888888888888,
              "#fdca26"
             ],
             [
              1,
              "#f0f921"
             ]
            ],
            "type": "surface"
           }
          ],
          "table": [
           {
            "cells": {
             "fill": {
              "color": "#EBF0F8"
             },
             "line": {
              "color": "white"
             }
            },
            "header": {
             "fill": {
              "color": "#C8D4E3"
             },
             "line": {
              "color": "white"
             }
            },
            "type": "table"
           }
          ]
         },
         "layout": {
          "annotationdefaults": {
           "arrowcolor": "#2a3f5f",
           "arrowhead": 0,
           "arrowwidth": 1
          },
          "autotypenumbers": "strict",
          "coloraxis": {
           "colorbar": {
            "outlinewidth": 0,
            "ticks": ""
           }
          },
          "colorscale": {
           "diverging": [
            [
             0,
             "#8e0152"
            ],
            [
             0.1,
             "#c51b7d"
            ],
            [
             0.2,
             "#de77ae"
            ],
            [
             0.3,
             "#f1b6da"
            ],
            [
             0.4,
             "#fde0ef"
            ],
            [
             0.5,
             "#f7f7f7"
            ],
            [
             0.6,
             "#e6f5d0"
            ],
            [
             0.7,
             "#b8e186"
            ],
            [
             0.8,
             "#7fbc41"
            ],
            [
             0.9,
             "#4d9221"
            ],
            [
             1,
             "#276419"
            ]
           ],
           "sequential": [
            [
             0,
             "#0d0887"
            ],
            [
             0.1111111111111111,
             "#46039f"
            ],
            [
             0.2222222222222222,
             "#7201a8"
            ],
            [
             0.3333333333333333,
             "#9c179e"
            ],
            [
             0.4444444444444444,
             "#bd3786"
            ],
            [
             0.5555555555555556,
             "#d8576b"
            ],
            [
             0.6666666666666666,
             "#ed7953"
            ],
            [
             0.7777777777777778,
             "#fb9f3a"
            ],
            [
             0.8888888888888888,
             "#fdca26"
            ],
            [
             1,
             "#f0f921"
            ]
           ],
           "sequentialminus": [
            [
             0,
             "#0d0887"
            ],
            [
             0.1111111111111111,
             "#46039f"
            ],
            [
             0.2222222222222222,
             "#7201a8"
            ],
            [
             0.3333333333333333,
             "#9c179e"
            ],
            [
             0.4444444444444444,
             "#bd3786"
            ],
            [
             0.5555555555555556,
             "#d8576b"
            ],
            [
             0.6666666666666666,
             "#ed7953"
            ],
            [
             0.7777777777777778,
             "#fb9f3a"
            ],
            [
             0.8888888888888888,
             "#fdca26"
            ],
            [
             1,
             "#f0f921"
            ]
           ]
          },
          "colorway": [
           "#636efa",
           "#EF553B",
           "#00cc96",
           "#ab63fa",
           "#FFA15A",
           "#19d3f3",
           "#FF6692",
           "#B6E880",
           "#FF97FF",
           "#FECB52"
          ],
          "font": {
           "color": "#2a3f5f"
          },
          "geo": {
           "bgcolor": "white",
           "lakecolor": "white",
           "landcolor": "#E5ECF6",
           "showlakes": true,
           "showland": true,
           "subunitcolor": "white"
          },
          "hoverlabel": {
           "align": "left"
          },
          "hovermode": "closest",
          "mapbox": {
           "style": "light"
          },
          "paper_bgcolor": "white",
          "plot_bgcolor": "#E5ECF6",
          "polar": {
           "angularaxis": {
            "gridcolor": "white",
            "linecolor": "white",
            "ticks": ""
           },
           "bgcolor": "#E5ECF6",
           "radialaxis": {
            "gridcolor": "white",
            "linecolor": "white",
            "ticks": ""
           }
          },
          "scene": {
           "xaxis": {
            "backgroundcolor": "#E5ECF6",
            "gridcolor": "white",
            "gridwidth": 2,
            "linecolor": "white",
            "showbackground": true,
            "ticks": "",
            "zerolinecolor": "white"
           },
           "yaxis": {
            "backgroundcolor": "#E5ECF6",
            "gridcolor": "white",
            "gridwidth": 2,
            "linecolor": "white",
            "showbackground": true,
            "ticks": "",
            "zerolinecolor": "white"
           },
           "zaxis": {
            "backgroundcolor": "#E5ECF6",
            "gridcolor": "white",
            "gridwidth": 2,
            "linecolor": "white",
            "showbackground": true,
            "ticks": "",
            "zerolinecolor": "white"
           }
          },
          "shapedefaults": {
           "line": {
            "color": "#2a3f5f"
           }
          },
          "ternary": {
           "aaxis": {
            "gridcolor": "white",
            "linecolor": "white",
            "ticks": ""
           },
           "baxis": {
            "gridcolor": "white",
            "linecolor": "white",
            "ticks": ""
           },
           "bgcolor": "#E5ECF6",
           "caxis": {
            "gridcolor": "white",
            "linecolor": "white",
            "ticks": ""
           }
          },
          "title": {
           "x": 0.05
          },
          "xaxis": {
           "automargin": true,
           "gridcolor": "white",
           "linecolor": "white",
           "ticks": "",
           "title": {
            "standoff": 15
           },
           "zerolinecolor": "white",
           "zerolinewidth": 2
          },
          "yaxis": {
           "automargin": true,
           "gridcolor": "white",
           "linecolor": "white",
           "ticks": "",
           "title": {
            "standoff": 15
           },
           "zerolinecolor": "white",
           "zerolinewidth": 2
          }
         }
        },
        "xaxis": {
         "anchor": "y",
         "domain": [
          0,
          1
         ],
         "title": {
          "text": "name"
         }
        },
        "yaxis": {
         "anchor": "x",
         "domain": [
          0,
          1
         ],
         "title": {
          "text": "price"
         }
        }
       }
      }
     },
     "metadata": {},
     "output_type": "display_data"
    }
   ],
   "source": [
    "# plt.figure(figsize = [10, 5])\n",
    "# d = data.groupby(by=[\"name\"]).size().reset_index(name=\"positive_ratings\")\n",
    "# px.bar(data_frame=d,x=\"name\",y=\"positive_ratings\",title=\"Platform Based Games\")\n",
    "\n",
    "\n",
    "fig = px.line(data.head(30), x=\"name\", y=\"price\",markers=True)\n",
    "\n",
    "fig.show()\n"
   ]
  },
  {
   "cell_type": "code",
   "execution_count": null,
   "metadata": {},
   "outputs": [
    {
     "ename": "NameError",
     "evalue": "name 'px' is not defined",
     "output_type": "error",
     "traceback": [
      "\u001b[0;31m---------------------------------------------------------------------------\u001b[0m",
      "\u001b[0;31mNameError\u001b[0m                                 Traceback (most recent call last)",
      "\u001b[1;32m/Users/subhammishra/Desktop/projects/Machine Learning/game-analysis/analysis.ipynb Cell 24\u001b[0m in \u001b[0;36m<cell line: 1>\u001b[0;34m()\u001b[0m\n\u001b[0;32m----> <a href='vscode-notebook-cell:/Users/subhammishra/Desktop/projects/Machine%20Learning/game-analysis/analysis.ipynb#X32sZmlsZQ%3D%3D?line=0'>1</a>\u001b[0m fig \u001b[39m=\u001b[39m px\u001b[39m.\u001b[39mline(data\u001b[39m.\u001b[39mhead(\u001b[39m30\u001b[39m), x\u001b[39m=\u001b[39m\u001b[39m\"\u001b[39m\u001b[39mname\u001b[39m\u001b[39m\"\u001b[39m, y\u001b[39m=\u001b[39m\u001b[39m\"\u001b[39m\u001b[39mpositive_ratings\u001b[39m\u001b[39m\"\u001b[39m,markers\u001b[39m=\u001b[39m\u001b[39mTrue\u001b[39;00m)\n\u001b[1;32m      <a href='vscode-notebook-cell:/Users/subhammishra/Desktop/projects/Machine%20Learning/game-analysis/analysis.ipynb#X32sZmlsZQ%3D%3D?line=2'>3</a>\u001b[0m fig\u001b[39m.\u001b[39mshow()\n",
      "\u001b[0;31mNameError\u001b[0m: name 'px' is not defined"
     ]
    }
   ],
   "source": [
    "fig = px.line(data.head(30), x=\"name\", y=\"positive_ratings\",markers=True)\n",
    "\n",
    "fig.show()"
   ]
  },
  {
   "cell_type": "code",
   "execution_count": null,
   "metadata": {},
   "outputs": [
    {
     "data": {
      "text/plain": [
       "(1121,)"
      ]
     },
     "execution_count": 108,
     "metadata": {},
     "output_type": "execute_result"
    }
   ],
   "source": [
    "devloper = data['developer'].value_counts()\n"
   ]
  },
  {
   "cell_type": "code",
   "execution_count": null,
   "metadata": {},
   "outputs": [
    {
     "data": {
      "text/plain": [
       "Text(0.5, 1.0, 'Top 20 developers')"
      ]
     },
     "execution_count": 114,
     "metadata": {},
     "output_type": "execute_result"
    },
    {
     "data": {
      "image/png": "[encoded data removed]",
      "text/plain": [
       "<Figure size 1440x360 with 1 Axes>"
      ]
     },
     "metadata": {
      "needs_background": "light"
     },
     "output_type": "display_data"
    }
   ],
   "source": [
    "\n",
    "plt.figure(figsize = [20, 5])\n",
    "devloper.head(20).plot(kind=\"bar\")\n",
    "plt.title(\"Top 20 developers\")"
   ]
  },
  {
   "cell_type": "code",
   "execution_count": null,
   "metadata": {},
   "outputs": [],
   "source": [
    "free , not_free = data[data['price']==0].shape[0],data[data['price']!=0].shape[0]"
   ]
  },
  {
   "cell_type": "code",
   "execution_count": null,
   "metadata": {},
   "outputs": [
    {
     "data": {
      "application/vnd.plotly.v1+json": {
       "config": {
        "plotlyServerURL": "https://plot.ly"
       },
       "data": [
        {
         "domain": {
          "x": [
           0,
           1
          ],
          "y": [
           0,
           1
          ]
         },
         "hovertemplate": "label=%{label}<br>value=%{value}<extra></extra>",
         "labels": [
          "Free Games",
          "Paid Games"
         ],
         "legendgroup": "",
         "name": "",
         "showlegend": true,
         "type": "pie",
         "values": [
          139,
          1861
         ]
        }
       ],
       "layout": {
        "legend": {
         "tracegroupgap": 0
        },
        "margin": {
         "t": 60
        },
        "template": {
         "data": {
          "bar": [
           {
            "error_x": {
             "color": "#2a3f5f"
            },
            "error_y": {
             "color": "#2a3f5f"
            },
            "marker": {
             "line": {
              "color": "#E5ECF6",
              "width": 0.5
             },
             "pattern": {
              "fillmode": "overlay",
              "size": 10,
              "solidity": 0.2
             }
            },
            "type": "bar"
           }
          ],
          "barpolar": [
           {
            "marker": {
             "line": {
              "color": "#E5ECF6",
              "width": 0.5
             },
             "pattern": {
              "fillmode": "overlay",
              "size": 10,
              "solidity": 0.2
             }
            },
            "type": "barpolar"
           }
          ],
          "carpet": [
           {
            "aaxis": {
             "endlinecolor": "#2a3f5f",
             "gridcolor": "white",
             "linecolor": "white",
             "minorgridcolor": "white",
             "startlinecolor": "#2a3f5f"
            },
            "baxis": {
             "endlinecolor": "#2a3f5f",
             "gridcolor": "white",
             "linecolor": "white",
             "minorgridcolor": "white",
             "startlinecolor": "#2a3f5f"
            },
            "type": "carpet"
           }
          ],
          "choropleth": [
           {
            "colorbar": {
             "outlinewidth": 0,
             "ticks": ""
            },
            "type": "choropleth"
           }
          ],
          "contour": [
           {
            "colorbar": {
             "outlinewidth": 0,
             "ticks": ""
            },
            "colorscale": [
             [
              0,
              "#0d0887"
             ],
             [
              0.1111111111111111,
              "#46039f"
             ],
             [
              0.2222222222222222,
              "#7201a8"
             ],
             [
              0.3333333333333333,
              "#9c179e"
             ],
             [
              0.4444444444444444,
              "#bd3786"
             ],
             [
              0.5555555555555556,
              "#d8576b"
             ],
             [
              0.6666666666666666,
              "#ed7953"
             ],
             [
              0.7777777777777778,
              "#fb9f3a"
             ],
             [
              0.8888888888888888,
              "#fdca26"
             ],
             [
              1,
              "#f0f921"
             ]
            ],
            "type": "contour"
           }
          ],
          "contourcarpet": [
           {
            "colorbar": {
             "outlinewidth": 0,
             "ticks": ""
            },
            "type": "contourcarpet"
           }
          ],
          "heatmap": [
           {
            "colorbar": {
             "outlinewidth": 0,
             "ticks": ""
            },
            "colorscale": [
             [
              0,
              "#0d0887"
             ],
             [
              0.1111111111111111,
              "#46039f"
             ],
             [
              0.2222222222222222,
              "#7201a8"
             ],
             [
              0.3333333333333333,
              "#9c179e"
             ],
             [
              0.4444444444444444,
              "#bd3786"
             ],
             [
              0.5555555555555556,
              "#d8576b"
             ],
             [
              0.6666666666666666,
              "#ed7953"
             ],
             [
              0.7777777777777778,
              "#fb9f3a"
             ],
             [
              0.8888888888888888,
              "#fdca26"
             ],
             [
              1,
              "#f0f921"
             ]
            ],
            "type": "heatmap"
           }
          ],
          "heatmapgl": [
           {
            "colorbar": {
             "outlinewidth": 0,
             "ticks": ""
            },
            "colorscale": [
             [
              0,
              "#0d0887"
             ],
             [
              0.1111111111111111,
              "#46039f"
             ],
             [
              0.2222222222222222,
              "#7201a8"
             ],
             [
              0.3333333333333333,
              "#9c179e"
             ],
             [
              0.4444444444444444,
              "#bd3786"
             ],
             [
              0.5555555555555556,
              "#d8576b"
             ],
             [
              0.6666666666666666,
              "#ed7953"
             ],
             [
              0.7777777777777778,
              "#fb9f3a"
             ],
             [
              0.8888888888888888,
              "#fdca26"
             ],
             [
              1,
              "#f0f921"
             ]
            ],
            "type": "heatmapgl"
           }
          ],
          "histogram": [
           {
            "marker": {
             "pattern": {
              "fillmode": "overlay",
              "size": 10,
              "solidity": 0.2
             }
            },
            "type": "histogram"
           }
          ],
          "histogram2d": [
           {
            "colorbar": {
             "outlinewidth": 0,
             "ticks": ""
            },
            "colorscale": [
             [
              0,
              "#0d0887"
             ],
             [
              0.1111111111111111,
              "#46039f"
             ],
             [
              0.2222222222222222,
              "#7201a8"
             ],
             [
              0.3333333333333333,
              "#9c179e"
             ],
             [
              0.4444444444444444,
              "#bd3786"
             ],
             [
              0.5555555555555556,
              "#d8576b"
             ],
             [
              0.6666666666666666,
              "#ed7953"
             ],
             [
              0.7777777777777778,
              "#fb9f3a"
             ],
             [
              0.8888888888888888,
              "#fdca26"
             ],
             [
              1,
              "#f0f921"
             ]
            ],
            "type": "histogram2d"
           }
          ],
          "histogram2dcontour": [
           {
            "colorbar": {
             "outlinewidth": 0,
             "ticks": ""
            },
            "colorscale": [
             [
              0,
              "#0d0887"
             ],
             [
              0.1111111111111111,
              "#46039f"
             ],
             [
              0.2222222222222222,
              "#7201a8"
             ],
             [
              0.3333333333333333,
              "#9c179e"
             ],
             [
              0.4444444444444444,
              "#bd3786"
             ],
             [
              0.5555555555555556,
              "#d8576b"
             ],
             [
              0.6666666666666666,
              "#ed7953"
             ],
             [
              0.7777777777777778,
              "#fb9f3a"
             ],
             [
              0.8888888888888888,
              "#fdca26"
             ],
             [
              1,
              "#f0f921"
             ]
            ],
            "type": "histogram2dcontour"
           }
          ],
          "mesh3d": [
           {
            "colorbar": {
             "outlinewidth": 0,
             "ticks": ""
            },
            "type": "mesh3d"
           }
          ],
          "parcoords": [
           {
            "line": {
             "colorbar": {
              "outlinewidth": 0,
              "ticks": ""
             }
            },
            "type": "parcoords"
           }
          ],
          "pie": [
           {
            "automargin": true,
            "type": "pie"
           }
          ],
          "scatter": [
           {
            "marker": {
             "colorbar": {
              "outlinewidth": 0,
              "ticks": ""
             }
            },
            "type": "scatter"
           }
          ],
          "scatter3d": [
           {
            "line": {
             "colorbar": {
              "outlinewidth": 0,
              "ticks": ""
             }
            },
            "marker": {
             "colorbar": {
              "outlinewidth": 0,
              "ticks": ""
             }
            },
            "type": "scatter3d"
           }
          ],
          "scattercarpet": [
           {
            "marker": {
             "colorbar": {
              "outlinewidth": 0,
              "ticks": ""
             }
            },
            "type": "scattercarpet"
           }
          ],
          "scattergeo": [
           {
            "marker": {
             "colorbar": {
              "outlinewidth": 0,
              "ticks": ""
             }
            },
            "type": "scattergeo"
           }
          ],
          "scattergl": [
           {
            "marker": {
             "colorbar": {
              "outlinewidth": 0,
              "ticks": ""
             }
            },
            "type": "scattergl"
           }
          ],
          "scattermapbox": [
           {
            "marker": {
             "colorbar": {
              "outlinewidth": 0,
              "ticks": ""
             }
            },
            "type": "scattermapbox"
           }
          ],
          "scatterpolar": [
           {
            "marker": {
             "colorbar": {
              "outlinewidth": 0,
              "ticks": ""
             }
            },
            "type": "scatterpolar"
           }
          ],
          "scatterpolargl": [
           {
            "marker": {
             "colorbar": {
              "outlinewidth": 0,
              "ticks": ""
             }
            },
            "type": "scatterpolargl"
           }
          ],
          "scatterternary": [
           {
            "marker": {
             "colorbar": {
              "outlinewidth": 0,
              "ticks": ""
             }
            },
            "type": "scatterternary"
           }
          ],
          "surface": [
           {
            "colorbar": {
             "outlinewidth": 0,
             "ticks": ""
            },
            "colorscale": [
             [
              0,
              "#0d0887"
             ],
             [
              0.1111111111111111,
              "#46039f"
             ],
             [
              0.2222222222222222,
              "#7201a8"
             ],
             [
              0.3333333333333333,
              "#9c179e"
             ],
             [
              0.4444444444444444,
              "#bd3786"
             ],
             [
              0.5555555555555556,
              "#d8576b"
             ],
             [
              0.6666666666666666,
              "#ed7953"
             ],
             [
              0.7777777777777778,
              "#fb9f3a"
             ],
             [
              0.8888888888888888,
              "#fdca26"
             ],
             [
              1,
              "#f0f921"
             ]
            ],
            "type": "surface"
           }
          ],
          "table": [
           {
            "cells": {
             "fill": {
              "color": "#EBF0F8"
             },
             "line": {
              "color": "white"
             }
            },
            "header": {
             "fill": {
              "color": "#C8D4E3"
             },
             "line": {
              "color": "white"
             }
            },
            "type": "table"
           }
          ]
         },
         "layout": {
          "annotationdefaults": {
           "arrowcolor": "#2a3f5f",
           "arrowhead": 0,
           "arrowwidth": 1
          },
          "autotypenumbers": "strict",
          "coloraxis": {
           "colorbar": {
            "outlinewidth": 0,
            "ticks": ""
           }
          },
          "colorscale": {
           "diverging": [
            [
             0,
             "#8e0152"
            ],
            [
             0.1,
             "#c51b7d"
            ],
            [
             0.2,
             "#de77ae"
            ],
            [
             0.3,
             "#f1b6da"
            ],
            [
             0.4,
             "#fde0ef"
            ],
            [
             0.5,
             "#f7f7f7"
            ],
            [
             0.6,
             "#e6f5d0"
            ],
            [
             0.7,
             "#b8e186"
            ],
            [
             0.8,
             "#7fbc41"
            ],
            [
             0.9,
             "#4d9221"
            ],
            [
             1,
             "#276419"
            ]
           ],
           "sequential": [
            [
             0,
             "#0d0887"
            ],
            [
             0.1111111111111111,
             "#46039f"
            ],
            [
             0.2222222222222222,
             "#7201a8"
            ],
            [
             0.3333333333333333,
             "#9c179e"
            ],
            [
             0.4444444444444444,
             "#bd3786"
            ],
            [
             0.5555555555555556,
             "#d8576b"
            ],
            [
             0.6666666666666666,
             "#ed7953"
            ],
            [
             0.7777777777777778,
             "#fb9f3a"
            ],
            [
             0.8888888888888888,
             "#fdca26"
            ],
            [
             1,
             "#f0f921"
            ]
           ],
           "sequentialminus": [
            [
             0,
             "#0d0887"
            ],
            [
             0.1111111111111111,
             "#46039f"
            ],
            [
             0.2222222222222222,
             "#7201a8"
            ],
            [
             0.3333333333333333,
             "#9c179e"
            ],
            [
             0.4444444444444444,
             "#bd3786"
            ],
            [
             0.5555555555555556,
             "#d8576b"
            ],
            [
             0.6666666666666666,
             "#ed7953"
            ],
            [
             0.7777777777777778,
             "#fb9f3a"
            ],
            [
             0.8888888888888888,
             "#fdca26"
            ],
            [
             1,
             "#f0f921"
            ]
           ]
          },
          "colorway": [
           "#636efa",
           "#EF553B",
           "#00cc96",
           "#ab63fa",
           "#FFA15A",
           "#19d3f3",
           "#FF6692",
           "#B6E880",
           "#FF97FF",
           "#FECB52"
          ],
          "font": {
           "color": "#2a3f5f"
          },
          "geo": {
           "bgcolor": "white",
           "lakecolor": "white",
           "landcolor": "#E5ECF6",
           "showlakes": true,
           "showland": true,
           "subunitcolor": "white"
          },
          "hoverlabel": {
           "align": "left"
          },
          "hovermode": "closest",
          "mapbox": {
           "style": "light"
          },
          "paper_bgcolor": "white",
          "plot_bgcolor": "#E5ECF6",
          "polar": {
           "angularaxis": {
            "gridcolor": "white",
            "linecolor": "white",
            "ticks": ""
           },
           "bgcolor": "#E5ECF6",
           "radialaxis": {
            "gridcolor": "white",
            "linecolor": "white",
            "ticks": ""
           }
          },
          "scene": {
           "xaxis": {
            "backgroundcolor": "#E5ECF6",
            "gridcolor": "white",
            "gridwidth": 2,
            "linecolor": "white",
            "showbackground": true,
            "ticks": "",
            "zerolinecolor": "white"
           },
           "yaxis": {
            "backgroundcolor": "#E5ECF6",
            "gridcolor": "white",
            "gridwidth": 2,
            "linecolor": "white",
            "showbackground": true,
            "ticks": "",
            "zerolinecolor": "white"
           },
           "zaxis": {
            "backgroundcolor": "#E5ECF6",
            "gridcolor": "white",
            "gridwidth": 2,
            "linecolor": "white",
            "showbackground": true,
            "ticks": "",
            "zerolinecolor": "white"
           }
          },
          "shapedefaults": {
           "line": {
            "color": "#2a3f5f"
           }
          },
          "ternary": {
           "aaxis": {
            "gridcolor": "white",
            "linecolor": "white",
            "ticks": ""
           },
           "baxis": {
            "gridcolor": "white",
            "linecolor": "white",
            "ticks": ""
           },
           "bgcolor": "#E5ECF6",
           "caxis": {
            "gridcolor": "white",
            "linecolor": "white",
            "ticks": ""
           }
          },
          "title": {
           "x": 0.05
          },
          "xaxis": {
           "automargin": true,
           "gridcolor": "white",
           "linecolor": "white",
           "ticks": "",
           "title": {
            "standoff": 15
           },
           "zerolinecolor": "white",
           "zerolinewidth": 2
          },
          "yaxis": {
           "automargin": true,
           "gridcolor": "white",
           "linecolor": "white",
           "ticks": "",
           "title": {
            "standoff": 15
           },
           "zerolinecolor": "white",
           "zerolinewidth": 2
          }
         }
        }
       }
      }
     },
     "metadata": {},
     "output_type": "display_data"
    }
   ],
   "source": [
    "label= ['Free Games','Paid Games']\n",
    "fig = px.pie(values=[free , not_free],names=label)\n",
    "fig.show()"
   ]
  },
  {
   "cell_type": "code",
   "execution_count": null,
   "metadata": {},
   "outputs": [],
   "source": []
  }
 ],
 "metadata": {
  "kernelspec": {
   "display_name": "base",
   "language": "python",
   "name": "python3"
  },
  "language_info": {
   "codemirror_mode": {
    "name": "ipython",
    "version": 3
   },
   "file_extension": ".py",
   "mimetype": "text/x-python",
   "name": "python",
   "nbconvert_exporter": "python",
   "pygments_lexer": "ipython3",
   "version": "3.9.12"
  },
  "orig_nbformat": 4,
  "vscode": {
   "interpreter": {
    "hash": "62dad0110ab54a4afd720655a9d451ae5db86159c8c27aa3361e8f9c616f9c1c"
   }
  }
 },
 "nbformat": 4,
 "nbformat_minor": 2
}
